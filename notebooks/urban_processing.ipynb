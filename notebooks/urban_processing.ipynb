{
 "cells": [
  {
   "cell_type": "markdown",
   "metadata": {},
   "source": [
    "# Generate Urban Inputs"
   ]
  },
  {
   "cell_type": "code",
   "execution_count": 1,
   "metadata": {},
   "outputs": [],
   "source": [
    "import numpy as np\n",
    "import pandas as pd\n",
    "import matplotlib.pyplot as plt\n",
    "import geopandas as gpd\n",
    "import networkx as nx\n",
    "import osmnx as ox\n",
    "import rasterio\n",
    "import multiprocessing as mp\n",
    "import json\n",
    "\n",
    "from pathlib import Path\n",
    "from rasterio.plot import show\n",
    "\n",
    "%matplotlib inline"
   ]
  },
  {
   "cell_type": "code",
   "execution_count": 2,
   "metadata": {},
   "outputs": [],
   "source": [
    "data_path = Path(\".\").resolve().parent / \"vina_del_mar\"\n",
    "epsg = \"epsg:4326\"\n",
    "urban_mask = gpd.read_file(data_path / \"urban\" / \"urban_mask.shp\").to_crs(epsg)\n",
    "shelters_raw = gpd.read_file(data_path / \"shelters\" / \"shelters_raw.shp\").to_crs(epsg)\n",
    "elevation_filepath = data_path / \"urban\" / \"urban_elevation.asc\"\n",
    "elevation = rasterio.open(elevation_filepath)"
   ]
  },
  {
   "cell_type": "code",
   "execution_count": 3,
   "metadata": {},
   "outputs": [
    {
     "data": {
      "image/png": "[encoded data removed]",
      "text/plain": [
       "<Figure size 432x432 with 1 Axes>"
      ]
     },
     "metadata": {
      "needs_background": "light"
     },
     "output_type": "display_data"
    }
   ],
   "source": [
    "fig, ax = plt.subplots(figsize=(6, 6))\n",
    "urban_mask.to_crs(epsg).plot(ax=ax)\n",
    "fig.show()"
   ]
  },
  {
   "cell_type": "markdown",
   "metadata": {},
   "source": [
    "## Urban Network"
   ]
  },
  {
   "cell_type": "code",
   "execution_count": 4,
   "metadata": {},
   "outputs": [],
   "source": [
    "G = ox.graph_from_polygon(\n",
    "    urban_mask.unary_union,\n",
    "    network_type=\"walk\",\n",
    "    simplify=False\n",
    ")\n",
    "G = ox.project_graph(G, to_crs=elevation.crs)\n",
    "ox.add_node_elevations_raster(\n",
    "    G,\n",
    "    elevation_filepath,\n",
    "    band=1\n",
    ")\n",
    "ox.elevation.add_edge_grades(G, add_absolute=False, precision=3)\n",
    "G = ox.project_graph(G, to_crs=epsg)\n",
    "nodes, edges = ox.graph_to_gdfs(G, nodes=True, edges=True)"
   ]
  },
  {
   "cell_type": "markdown",
   "metadata": {},
   "source": [
    "## Evacuation Routes"
   ]
  },
  {
   "cell_type": "code",
   "execution_count": 5,
   "metadata": {},
   "outputs": [],
   "source": [
    "def euclidean_dist(a, b, G=G):\n",
    "    x1 = G.nodes[a][\"x\"]\n",
    "    y1 = G.nodes[a][\"y\"]\n",
    "    x2 = G.nodes[b][\"x\"]\n",
    "    y2 =  G.nodes[b][\"y\"]\n",
    "    return ((x1 - x2) ** 2 + (y1 - y2) ** 2) ** 0.5\n",
    "\n",
    "\n",
    "def get_evacuation_route(G, origin, targets, weight=\"weight\", heuristic=None):\n",
    "    paths = {target: nx.astar_path(G, origin, target, heuristic, weight) for target in targets}\n",
    "    lengths = {target: sum(ox.utils_graph.get_route_edge_attributes(G, path, weight)) for target, path in paths.items()}\n",
    "    best_target = min(lengths, key=lengths.get)\n",
    "    return (origin, paths[best_target][1:])\n",
    "\n",
    "\n",
    "def get_evacuation_routes_parallel(args, cpus=None):\n",
    "    pool = mp.Pool(cpus)\n",
    "    sma = pool.starmap_async(get_evacuation_route, args)\n",
    "    evacuation_routes = sma.get()\n",
    "    pool.close()\n",
    "    pool.join()\n",
    "    return {origin: route for origin, route in evacuation_routes}"
   ]
  },
  {
   "cell_type": "code",
   "execution_count": 6,
   "metadata": {},
   "outputs": [],
   "source": [
    "horizontal_shelter_nodes_id = ox.distance.nearest_nodes(\n",
    "    G,\n",
    "    X=shelters_raw.loc[lambda x: x[\"evac_type\"] == \"horizontal\", \"x\"].values,\n",
    "    Y=shelters_raw.loc[lambda x: x[\"evac_type\"] == \"horizontal\", \"y\"].values\n",
    ")\n",
    "horizontal_args = ((G, origin, horizontal_shelter_nodes_id, \"length\", None) for origin in G.nodes)\n",
    "horizontal_evacuation_routes = get_evacuation_routes_parallel(horizontal_args)"
   ]
  },
  {
   "cell_type": "code",
   "execution_count": 7,
   "metadata": {},
   "outputs": [
    {
     "ename": "ValueError",
     "evalue": "Found array with 0 sample(s) (shape=(0, 2)) while a minimum of 1 is required.",
     "output_type": "error",
     "traceback": [
      "\u001b[0;31m---------------------------------------------------------------------------\u001b[0m",
      "\u001b[0;31mValueError\u001b[0m                                Traceback (most recent call last)",
      "\u001b[0;32m/tmp/ipykernel_2890/1969656316.py\u001b[0m in \u001b[0;36m<module>\u001b[0;34m\u001b[0m\n\u001b[0;32m----> 1\u001b[0;31m vertical_shelter_nodes_id = ox.distance.nearest_nodes(\n\u001b[0m\u001b[1;32m      2\u001b[0m     \u001b[0mG\u001b[0m\u001b[0;34m,\u001b[0m\u001b[0;34m\u001b[0m\u001b[0;34m\u001b[0m\u001b[0m\n\u001b[1;32m      3\u001b[0m     \u001b[0mX\u001b[0m\u001b[0;34m=\u001b[0m\u001b[0mshelters_raw\u001b[0m\u001b[0;34m.\u001b[0m\u001b[0mloc\u001b[0m\u001b[0;34m[\u001b[0m\u001b[0;32mlambda\u001b[0m \u001b[0mx\u001b[0m\u001b[0;34m:\u001b[0m \u001b[0mx\u001b[0m\u001b[0;34m[\u001b[0m\u001b[0;34m\"evac_type\"\u001b[0m\u001b[0;34m]\u001b[0m \u001b[0;34m==\u001b[0m \u001b[0;34m\"vertical\"\u001b[0m\u001b[0;34m,\u001b[0m \u001b[0;34m\"x\"\u001b[0m\u001b[0;34m]\u001b[0m\u001b[0;34m.\u001b[0m\u001b[0mvalues\u001b[0m\u001b[0;34m,\u001b[0m\u001b[0;34m\u001b[0m\u001b[0;34m\u001b[0m\u001b[0m\n\u001b[1;32m      4\u001b[0m     \u001b[0mY\u001b[0m\u001b[0;34m=\u001b[0m\u001b[0mshelters_raw\u001b[0m\u001b[0;34m.\u001b[0m\u001b[0mloc\u001b[0m\u001b[0;34m[\u001b[0m\u001b[0;32mlambda\u001b[0m \u001b[0mx\u001b[0m\u001b[0;34m:\u001b[0m \u001b[0mx\u001b[0m\u001b[0;34m[\u001b[0m\u001b[0;34m\"evac_type\"\u001b[0m\u001b[0;34m]\u001b[0m \u001b[0;34m==\u001b[0m \u001b[0;34m\"vertical\"\u001b[0m\u001b[0;34m,\u001b[0m \u001b[0;34m\"y\"\u001b[0m\u001b[0;34m]\u001b[0m\u001b[0;34m.\u001b[0m\u001b[0mvalues\u001b[0m\u001b[0;34m\u001b[0m\u001b[0;34m\u001b[0m\u001b[0m\n\u001b[1;32m      5\u001b[0m )\n",
      "\u001b[0;32m~/mambaforge/envs/agoo/lib/python3.9/site-packages/osmnx/distance.py\u001b[0m in \u001b[0;36mnearest_nodes\u001b[0;34m(G, X, Y, return_dist)\u001b[0m\n\u001b[1;32m    202\u001b[0m         \u001b[0mnodes_rad\u001b[0m \u001b[0;34m=\u001b[0m \u001b[0mnp\u001b[0m\u001b[0;34m.\u001b[0m\u001b[0mdeg2rad\u001b[0m\u001b[0;34m(\u001b[0m\u001b[0mnodes\u001b[0m\u001b[0;34m[\u001b[0m\u001b[0;34m[\u001b[0m\u001b[0;34m\"y\"\u001b[0m\u001b[0;34m,\u001b[0m \u001b[0;34m\"x\"\u001b[0m\u001b[0;34m]\u001b[0m\u001b[0;34m]\u001b[0m\u001b[0;34m)\u001b[0m\u001b[0;34m\u001b[0m\u001b[0;34m\u001b[0m\u001b[0m\n\u001b[1;32m    203\u001b[0m         \u001b[0mpoints_rad\u001b[0m \u001b[0;34m=\u001b[0m \u001b[0mnp\u001b[0m\u001b[0;34m.\u001b[0m\u001b[0mdeg2rad\u001b[0m\u001b[0;34m(\u001b[0m\u001b[0mnp\u001b[0m\u001b[0;34m.\u001b[0m\u001b[0marray\u001b[0m\u001b[0;34m(\u001b[0m\u001b[0;34m[\u001b[0m\u001b[0mY\u001b[0m\u001b[0;34m,\u001b[0m \u001b[0mX\u001b[0m\u001b[0;34m]\u001b[0m\u001b[0;34m)\u001b[0m\u001b[0;34m.\u001b[0m\u001b[0mT\u001b[0m\u001b[0;34m)\u001b[0m\u001b[0;34m\u001b[0m\u001b[0;34m\u001b[0m\u001b[0m\n\u001b[0;32m--> 204\u001b[0;31m         \u001b[0mdist\u001b[0m\u001b[0;34m,\u001b[0m \u001b[0mpos\u001b[0m \u001b[0;34m=\u001b[0m \u001b[0mBallTree\u001b[0m\u001b[0;34m(\u001b[0m\u001b[0mnodes_rad\u001b[0m\u001b[0;34m,\u001b[0m \u001b[0mmetric\u001b[0m\u001b[0;34m=\u001b[0m\u001b[0;34m\"haversine\"\u001b[0m\u001b[0;34m)\u001b[0m\u001b[0;34m.\u001b[0m\u001b[0mquery\u001b[0m\u001b[0;34m(\u001b[0m\u001b[0mpoints_rad\u001b[0m\u001b[0;34m,\u001b[0m \u001b[0mk\u001b[0m\u001b[0;34m=\u001b[0m\u001b[0;36m1\u001b[0m\u001b[0;34m)\u001b[0m\u001b[0;34m\u001b[0m\u001b[0;34m\u001b[0m\u001b[0m\n\u001b[0m\u001b[1;32m    205\u001b[0m         \u001b[0mdist\u001b[0m \u001b[0;34m=\u001b[0m \u001b[0mdist\u001b[0m\u001b[0;34m[\u001b[0m\u001b[0;34m:\u001b[0m\u001b[0;34m,\u001b[0m \u001b[0;36m0\u001b[0m\u001b[0;34m]\u001b[0m \u001b[0;34m*\u001b[0m \u001b[0mEARTH_RADIUS_M\u001b[0m  \u001b[0;31m# convert radians -> meters\u001b[0m\u001b[0;34m\u001b[0m\u001b[0;34m\u001b[0m\u001b[0m\n\u001b[1;32m    206\u001b[0m         \u001b[0mnn\u001b[0m \u001b[0;34m=\u001b[0m \u001b[0mnodes\u001b[0m\u001b[0;34m.\u001b[0m\u001b[0mindex\u001b[0m\u001b[0;34m[\u001b[0m\u001b[0mpos\u001b[0m\u001b[0;34m[\u001b[0m\u001b[0;34m:\u001b[0m\u001b[0;34m,\u001b[0m \u001b[0;36m0\u001b[0m\u001b[0;34m]\u001b[0m\u001b[0;34m]\u001b[0m\u001b[0;34m\u001b[0m\u001b[0;34m\u001b[0m\u001b[0m\n",
      "\u001b[0;32msklearn/neighbors/_binary_tree.pxi\u001b[0m in \u001b[0;36msklearn.neighbors._ball_tree.BinaryTree.query\u001b[0;34m()\u001b[0m\n",
      "\u001b[0;32m~/mambaforge/envs/agoo/lib/python3.9/site-packages/sklearn/utils/validation.py\u001b[0m in \u001b[0;36minner_f\u001b[0;34m(*args, **kwargs)\u001b[0m\n\u001b[1;32m     61\u001b[0m             \u001b[0mextra_args\u001b[0m \u001b[0;34m=\u001b[0m \u001b[0mlen\u001b[0m\u001b[0;34m(\u001b[0m\u001b[0margs\u001b[0m\u001b[0;34m)\u001b[0m \u001b[0;34m-\u001b[0m \u001b[0mlen\u001b[0m\u001b[0;34m(\u001b[0m\u001b[0mall_args\u001b[0m\u001b[0;34m)\u001b[0m\u001b[0;34m\u001b[0m\u001b[0;34m\u001b[0m\u001b[0m\n\u001b[1;32m     62\u001b[0m             \u001b[0;32mif\u001b[0m \u001b[0mextra_args\u001b[0m \u001b[0;34m<=\u001b[0m \u001b[0;36m0\u001b[0m\u001b[0;34m:\u001b[0m\u001b[0;34m\u001b[0m\u001b[0;34m\u001b[0m\u001b[0m\n\u001b[0;32m---> 63\u001b[0;31m                 \u001b[0;32mreturn\u001b[0m \u001b[0mf\u001b[0m\u001b[0;34m(\u001b[0m\u001b[0;34m*\u001b[0m\u001b[0margs\u001b[0m\u001b[0;34m,\u001b[0m \u001b[0;34m**\u001b[0m\u001b[0mkwargs\u001b[0m\u001b[0;34m)\u001b[0m\u001b[0;34m\u001b[0m\u001b[0;34m\u001b[0m\u001b[0m\n\u001b[0m\u001b[1;32m     64\u001b[0m \u001b[0;34m\u001b[0m\u001b[0m\n\u001b[1;32m     65\u001b[0m             \u001b[0;31m# extra_args > 0\u001b[0m\u001b[0;34m\u001b[0m\u001b[0;34m\u001b[0m\u001b[0;34m\u001b[0m\u001b[0m\n",
      "\u001b[0;32m~/mambaforge/envs/agoo/lib/python3.9/site-packages/sklearn/utils/validation.py\u001b[0m in \u001b[0;36mcheck_array\u001b[0;34m(array, accept_sparse, accept_large_sparse, dtype, order, copy, force_all_finite, ensure_2d, allow_nd, ensure_min_samples, ensure_min_features, estimator)\u001b[0m\n\u001b[1;32m    724\u001b[0m         \u001b[0mn_samples\u001b[0m \u001b[0;34m=\u001b[0m \u001b[0m_num_samples\u001b[0m\u001b[0;34m(\u001b[0m\u001b[0marray\u001b[0m\u001b[0;34m)\u001b[0m\u001b[0;34m\u001b[0m\u001b[0;34m\u001b[0m\u001b[0m\n\u001b[1;32m    725\u001b[0m         \u001b[0;32mif\u001b[0m \u001b[0mn_samples\u001b[0m \u001b[0;34m<\u001b[0m \u001b[0mensure_min_samples\u001b[0m\u001b[0;34m:\u001b[0m\u001b[0;34m\u001b[0m\u001b[0;34m\u001b[0m\u001b[0m\n\u001b[0;32m--> 726\u001b[0;31m             raise ValueError(\"Found array with %d sample(s) (shape=%s) while a\"\n\u001b[0m\u001b[1;32m    727\u001b[0m                              \u001b[0;34m\" minimum of %d is required%s.\"\u001b[0m\u001b[0;34m\u001b[0m\u001b[0;34m\u001b[0m\u001b[0m\n\u001b[1;32m    728\u001b[0m                              % (n_samples, array.shape, ensure_min_samples,\n",
      "\u001b[0;31mValueError\u001b[0m: Found array with 0 sample(s) (shape=(0, 2)) while a minimum of 1 is required."
     ]
    }
   ],
   "source": [
    "vertical_shelter_nodes_id = ox.distance.nearest_nodes(\n",
    "    G,\n",
    "    X=shelters_raw.loc[lambda x: x[\"evac_type\"] == \"vertical\", \"x\"].values,\n",
    "    Y=shelters_raw.loc[lambda x: x[\"evac_type\"] == \"vertical\", \"y\"].values\n",
    ")\n",
    "vertical_args = ((G, origin, vertical_shelter_nodes_id, \"length\", None) for origin in G.nodes)\n",
    "vertical_evacuation_routes = get_evacuation_routes_parallel(vertical_args)"
   ]
  },
  {
   "cell_type": "code",
   "execution_count": 8,
   "metadata": {},
   "outputs": [],
   "source": [
    "shelter_nodes_id = ox.distance.nearest_nodes(\n",
    "    G,\n",
    "    X=shelters_raw.loc[:, \"x\"].values,\n",
    "    Y=shelters_raw.loc[:, \"y\"].values\n",
    ")\n",
    "alternative_args = (\n",
    "    (\n",
    "        G,\n",
    "        origin,\n",
    "        [shelter for shelter in shelter_nodes_id if origin != shelter],\n",
    "        \"length\",\n",
    "        None\n",
    "    ) for origin in shelter_nodes_id\n",
    ")\n",
    "alternative_evacuation_routes = get_evacuation_routes_parallel(alternative_args)"
   ]
  },
  {
   "cell_type": "markdown",
   "metadata": {},
   "source": [
    "### Write outputs"
   ]
  },
  {
   "cell_type": "code",
   "execution_count": 9,
   "metadata": {},
   "outputs": [
    {
     "data": {
      "text/html": [
       "<div>\n",
       "<style scoped>\n",
       "    .dataframe tbody tr th:only-of-type {\n",
       "        vertical-align: middle;\n",
       "    }\n",
       "\n",
       "    .dataframe tbody tr th {\n",
       "        vertical-align: top;\n",
       "    }\n",
       "\n",
       "    .dataframe thead th {\n",
       "        text-align: right;\n",
       "    }\n",
       "</style>\n",
       "<table border=\"1\" class=\"dataframe\">\n",
       "  <thead>\n",
       "    <tr style=\"text-align: right;\">\n",
       "      <th></th>\n",
       "      <th>id</th>\n",
       "      <th>x</th>\n",
       "      <th>y</th>\n",
       "      <th>geometry</th>\n",
       "    </tr>\n",
       "  </thead>\n",
       "  <tbody>\n",
       "    <tr>\n",
       "      <th>0</th>\n",
       "      <td>252673360</td>\n",
       "      <td>-71.551429</td>\n",
       "      <td>-33.022482</td>\n",
       "      <td>POINT (-71.55143 -33.02248)</td>\n",
       "    </tr>\n",
       "    <tr>\n",
       "      <th>1</th>\n",
       "      <td>253107884</td>\n",
       "      <td>-71.551447</td>\n",
       "      <td>-33.022566</td>\n",
       "      <td>POINT (-71.55145 -33.02257)</td>\n",
       "    </tr>\n",
       "    <tr>\n",
       "      <th>2</th>\n",
       "      <td>254026566</td>\n",
       "      <td>-71.550188</td>\n",
       "      <td>-33.022666</td>\n",
       "      <td>POINT (-71.55019 -33.02267)</td>\n",
       "    </tr>\n",
       "    <tr>\n",
       "      <th>3</th>\n",
       "      <td>302967549</td>\n",
       "      <td>-71.551537</td>\n",
       "      <td>-33.022467</td>\n",
       "      <td>POINT (-71.55154 -33.02247)</td>\n",
       "    </tr>\n",
       "    <tr>\n",
       "      <th>4</th>\n",
       "      <td>254026932</td>\n",
       "      <td>-71.551231</td>\n",
       "      <td>-33.021511</td>\n",
       "      <td>POINT (-71.55123 -33.02151)</td>\n",
       "    </tr>\n",
       "  </tbody>\n",
       "</table>\n",
       "</div>"
      ],
      "text/plain": [
       "          id          x          y                     geometry\n",
       "0  252673360 -71.551429 -33.022482  POINT (-71.55143 -33.02248)\n",
       "1  253107884 -71.551447 -33.022566  POINT (-71.55145 -33.02257)\n",
       "2  254026566 -71.550188 -33.022666  POINT (-71.55019 -33.02267)\n",
       "3  302967549 -71.551537 -33.022467  POINT (-71.55154 -33.02247)\n",
       "4  254026932 -71.551231 -33.021511  POINT (-71.55123 -33.02151)"
      ]
     },
     "execution_count": 9,
     "metadata": {},
     "output_type": "execute_result"
    }
   ],
   "source": [
    "urban_nodes = (\n",
    "    nodes.reset_index()\n",
    "    .rename(columns={\"osmid\": \"id\"})\n",
    "    .loc[: ,[\"id\", \"x\", \"y\", \"geometry\"]]\n",
    ")\n",
    "urban_nodes.head()"
   ]
  },
  {
   "cell_type": "code",
   "execution_count": 10,
   "metadata": {},
   "outputs": [
    {
     "data": {
      "text/html": [
       "<div>\n",
       "<style scoped>\n",
       "    .dataframe tbody tr th:only-of-type {\n",
       "        vertical-align: middle;\n",
       "    }\n",
       "\n",
       "    .dataframe tbody tr th {\n",
       "        vertical-align: top;\n",
       "    }\n",
       "\n",
       "    .dataframe thead th {\n",
       "        text-align: right;\n",
       "    }\n",
       "</style>\n",
       "<table border=\"1\" class=\"dataframe\">\n",
       "  <thead>\n",
       "    <tr style=\"text-align: right;\">\n",
       "      <th></th>\n",
       "      <th>id</th>\n",
       "      <th>from_id</th>\n",
       "      <th>to_id</th>\n",
       "      <th>length</th>\n",
       "      <th>slope</th>\n",
       "      <th>weight</th>\n",
       "      <th>sidewalks</th>\n",
       "      <th>sd_width</th>\n",
       "      <th>geometry</th>\n",
       "    </tr>\n",
       "  </thead>\n",
       "  <tbody>\n",
       "    <tr>\n",
       "      <th>0</th>\n",
       "      <td>242043349</td>\n",
       "      <td>252673360</td>\n",
       "      <td>253107884</td>\n",
       "      <td>9.501</td>\n",
       "      <td>-0.003</td>\n",
       "      <td>9.501</td>\n",
       "      <td>2</td>\n",
       "      <td>2</td>\n",
       "      <td>LINESTRING (-71.55143 -33.02248, -71.55145 -33...</td>\n",
       "    </tr>\n",
       "    <tr>\n",
       "      <th>1</th>\n",
       "      <td>288368027</td>\n",
       "      <td>252673360</td>\n",
       "      <td>254026566</td>\n",
       "      <td>117.509</td>\n",
       "      <td>0.000</td>\n",
       "      <td>117.509</td>\n",
       "      <td>2</td>\n",
       "      <td>2</td>\n",
       "      <td>LINESTRING (-71.55143 -33.02248, -71.55019 -33...</td>\n",
       "    </tr>\n",
       "    <tr>\n",
       "      <th>2</th>\n",
       "      <td>452081060</td>\n",
       "      <td>252673360</td>\n",
       "      <td>302967549</td>\n",
       "      <td>10.221</td>\n",
       "      <td>-0.000</td>\n",
       "      <td>10.221</td>\n",
       "      <td>2</td>\n",
       "      <td>2</td>\n",
       "      <td>LINESTRING (-71.55143 -33.02248, -71.55154 -33...</td>\n",
       "    </tr>\n",
       "    <tr>\n",
       "      <th>3</th>\n",
       "      <td>551701500</td>\n",
       "      <td>252673360</td>\n",
       "      <td>254026932</td>\n",
       "      <td>109.476</td>\n",
       "      <td>0.003</td>\n",
       "      <td>109.476</td>\n",
       "      <td>2</td>\n",
       "      <td>2</td>\n",
       "      <td>LINESTRING (-71.55143 -33.02248, -71.55123 -33...</td>\n",
       "    </tr>\n",
       "    <tr>\n",
       "      <th>4</th>\n",
       "      <td>23927111</td>\n",
       "      <td>253107884</td>\n",
       "      <td>252674355</td>\n",
       "      <td>5.721</td>\n",
       "      <td>-0.002</td>\n",
       "      <td>5.721</td>\n",
       "      <td>2</td>\n",
       "      <td>2</td>\n",
       "      <td>LINESTRING (-71.55145 -33.02257, -71.55146 -33...</td>\n",
       "    </tr>\n",
       "  </tbody>\n",
       "</table>\n",
       "</div>"
      ],
      "text/plain": [
       "          id    from_id      to_id   length  slope   weight  sidewalks  \\\n",
       "0  242043349  252673360  253107884    9.501 -0.003    9.501          2   \n",
       "1  288368027  252673360  254026566  117.509  0.000  117.509          2   \n",
       "2  452081060  252673360  302967549   10.221 -0.000   10.221          2   \n",
       "3  551701500  252673360  254026932  109.476  0.003  109.476          2   \n",
       "4   23927111  253107884  252674355    5.721 -0.002    5.721          2   \n",
       "\n",
       "   sd_width                                           geometry  \n",
       "0         2  LINESTRING (-71.55143 -33.02248, -71.55145 -33...  \n",
       "1         2  LINESTRING (-71.55143 -33.02248, -71.55019 -33...  \n",
       "2         2  LINESTRING (-71.55143 -33.02248, -71.55154 -33...  \n",
       "3         2  LINESTRING (-71.55143 -33.02248, -71.55123 -33...  \n",
       "4         2  LINESTRING (-71.55145 -33.02257, -71.55146 -33...  "
      ]
     },
     "execution_count": 10,
     "metadata": {},
     "output_type": "execute_result"
    }
   ],
   "source": [
    "urban_network = (\n",
    "    edges.reset_index()\n",
    "    .rename(\n",
    "        columns={\n",
    "            \"osmid\": \"id\",\n",
    "            \"u\": \"from_id\",\n",
    "            \"v\": \"to_id\",\n",
    "            \"grade\": \"slope\",\n",
    "        }\n",
    "    )\n",
    "    .assign(\n",
    "        weight=lambda x: x[\"length\"],\n",
    "        sidewalks=2,\n",
    "        sd_width=2\n",
    "    )\n",
    "    .loc[\n",
    "        :,\n",
    "        [\n",
    "            \"id\",\n",
    "            \"from_id\",\n",
    "            \"to_id\",\n",
    "            \"length\",\n",
    "            \"slope\",\n",
    "            \"weight\",\n",
    "            \"sidewalks\",\n",
    "            \"sd_width\",\n",
    "            \"geometry\"\n",
    "\n",
    "        ]\n",
    "    ]\n",
    ")\n",
    "urban_network.head()"
   ]
  },
  {
   "cell_type": "code",
   "execution_count": 11,
   "metadata": {},
   "outputs": [
    {
     "data": {
      "text/html": [
       "<div>\n",
       "<style scoped>\n",
       "    .dataframe tbody tr th:only-of-type {\n",
       "        vertical-align: middle;\n",
       "    }\n",
       "\n",
       "    .dataframe tbody tr th {\n",
       "        vertical-align: top;\n",
       "    }\n",
       "\n",
       "    .dataframe thead th {\n",
       "        text-align: right;\n",
       "    }\n",
       "</style>\n",
       "<table border=\"1\" class=\"dataframe\">\n",
       "  <thead>\n",
       "    <tr style=\"text-align: right;\">\n",
       "      <th></th>\n",
       "      <th>id</th>\n",
       "      <th>x</th>\n",
       "      <th>y</th>\n",
       "      <th>evac_type</th>\n",
       "      <th>geometry</th>\n",
       "    </tr>\n",
       "  </thead>\n",
       "  <tbody>\n",
       "    <tr>\n",
       "      <th>0</th>\n",
       "      <td>2720301204</td>\n",
       "      <td>-71.550425</td>\n",
       "      <td>-33.004617</td>\n",
       "      <td>horizontal</td>\n",
       "      <td>POINT (-71.55042 -33.00462)</td>\n",
       "    </tr>\n",
       "    <tr>\n",
       "      <th>1</th>\n",
       "      <td>6131669502</td>\n",
       "      <td>-71.538649</td>\n",
       "      <td>-33.041187</td>\n",
       "      <td>horizontal</td>\n",
       "      <td>POINT (-71.53865 -33.04119)</td>\n",
       "    </tr>\n",
       "    <tr>\n",
       "      <th>2</th>\n",
       "      <td>6131669502</td>\n",
       "      <td>-71.538649</td>\n",
       "      <td>-33.041187</td>\n",
       "      <td>horizontal</td>\n",
       "      <td>POINT (-71.53865 -33.04119)</td>\n",
       "    </tr>\n",
       "    <tr>\n",
       "      <th>3</th>\n",
       "      <td>6131669502</td>\n",
       "      <td>-71.538649</td>\n",
       "      <td>-33.041187</td>\n",
       "      <td>horizontal</td>\n",
       "      <td>POINT (-71.53865 -33.04119)</td>\n",
       "    </tr>\n",
       "    <tr>\n",
       "      <th>4</th>\n",
       "      <td>6131669502</td>\n",
       "      <td>-71.538649</td>\n",
       "      <td>-33.041187</td>\n",
       "      <td>horizontal</td>\n",
       "      <td>POINT (-71.53865 -33.04119)</td>\n",
       "    </tr>\n",
       "  </tbody>\n",
       "</table>\n",
       "</div>"
      ],
      "text/plain": [
       "           id          x          y   evac_type                     geometry\n",
       "0  2720301204 -71.550425 -33.004617  horizontal  POINT (-71.55042 -33.00462)\n",
       "1  6131669502 -71.538649 -33.041187  horizontal  POINT (-71.53865 -33.04119)\n",
       "2  6131669502 -71.538649 -33.041187  horizontal  POINT (-71.53865 -33.04119)\n",
       "3  6131669502 -71.538649 -33.041187  horizontal  POINT (-71.53865 -33.04119)\n",
       "4  6131669502 -71.538649 -33.041187  horizontal  POINT (-71.53865 -33.04119)"
      ]
     },
     "execution_count": 11,
     "metadata": {},
     "output_type": "execute_result"
    }
   ],
   "source": [
    "shelters_node = (\n",
    "    pd.DataFrame(\n",
    "        {\n",
    "            \"id\": shelter_nodes_id,\n",
    "            \"evac_type\": shelters_raw.loc[:, \"evac_type\"].values,\n",
    "            \"capacity\": shelters_raw.loc[:, \"capacity\"].values\n",
    "        }\n",
    "    )\n",
    "    .merge(urban_nodes, how=\"inner\")\n",
    "    .loc[\n",
    "        :,\n",
    "        [\"id\", \"x\", \"y\", \"evac_type\", \"geometry\"]\n",
    "    ]\n",
    "    .pipe(lambda x: gpd.GeoDataFrame(x))\n",
    ")\n",
    "shelters_node.head()"
   ]
  },
  {
   "cell_type": "code",
   "execution_count": 12,
   "metadata": {},
   "outputs": [],
   "source": [
    "urban_nodes.to_file(data_path / \"urban\"/ \"urban_nodes.shp\")\n",
    "urban_network.to_file(data_path / \"urban\"/ \"urban_network.shp\")\n",
    "shelters_node.to_file(data_path / \"shelters\"/ \"shelters_node.shp\")"
   ]
  },
  {
   "cell_type": "code",
   "execution_count": 13,
   "metadata": {},
   "outputs": [],
   "source": [
    "with (data_path / \"evacuation_routes\" / \"shortest\" / \"horizontal_evacuation_routes.json\").open(\"w\") as f:\n",
    "    json.dump(horizontal_evacuation_routes, f)\n",
    "\n",
    "with (data_path / \"evacuation_routes\" / \"shortest\" / \"vertical_evacuation_routes.json\").open(\"w\") as f:\n",
    "    json.dump(vertical_evacuation_routes, f)\n",
    "\n",
    "with (data_path / \"evacuation_routes\" / \"shortest\" / \"alternative_evacuation_routes.json\").open(\"w\") as f:\n",
    "    json.dump(alternative_evacuation_routes, f)\n"
   ]
  },
  {
   "cell_type": "code",
   "execution_count": null,
   "metadata": {},
   "outputs": [],
   "source": []
  }
 ],
 "metadata": {
  "interpreter": {
   "hash": "b98655f3f48ebffe498c7bd1de12272d82668f41a403333105a778c5863c4324"
  },
  "kernelspec": {
   "display_name": "Python 3.9.6 64-bit ('agoo': conda)",
   "language": "python",
   "name": "python3"
  },
  "language_info": {
   "codemirror_mode": {
    "name": "ipython",
    "version": 3
   },
   "file_extension": ".py",
   "mimetype": "text/x-python",
   "name": "python",
   "nbconvert_exporter": "python",
   "pygments_lexer": "ipython3",
   "version": "3.9.6"
  },
  "orig_nbformat": 4
 },
 "nbformat": 4,
 "nbformat_minor": 2
}
