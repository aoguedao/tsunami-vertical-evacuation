{
 "cells": [
  {
   "cell_type": "markdown",
   "metadata": {},
   "source": [
    "# TVE Preprocessing"
   ]
  },
  {
   "cell_type": "code",
   "execution_count": 1,
   "metadata": {},
   "outputs": [],
   "source": [
    "import numpy as np\n",
    "import pandas as pd\n",
    "import matplotlib.pyplot as plt\n",
    "import geopandas as gpd\n",
    "import networkx as nx\n",
    "import osmnx as ox\n",
    "import rasterio\n",
    "import multiprocessing as mp\n",
    "import json\n",
    "\n",
    "from pathlib import Path\n",
    "from rasterio.plot import show\n",
    "\n",
    "%matplotlib inline"
   ]
  },
  {
   "cell_type": "code",
   "execution_count": 2,
   "metadata": {},
   "outputs": [],
   "source": [
    "data_path = Path(\".\").resolve().parent / \"vina_del_mar\"\n",
    "tsunami_scenario = \"tsunami_1985\"\n",
    "epsg = \"epsg:32719\"\n",
    "urban_mask = gpd.read_file(data_path / \"urban\" / \"urban_mask.shp\").to_crs(epsg)\n",
    "vertical_evacuation_mask = gpd.read_file(data_path / \"urban\" / \"vertical_evacuation_mask.shp\").to_crs(epsg)\n",
    "sidewalks = pd.read_excel(data_path / \"urban\" / \"sidewalks.xlsx\")\n",
    "shelters_raw = gpd.read_file(data_path / \"shelters\" / \"shelters_raw.shp\").to_crs(epsg)\n",
    "elevation_filepath = data_path / \"urban\" / \"urban_elevation.asc\"\n",
    "elevation = rasterio.open(elevation_filepath)"
   ]
  },
  {
   "cell_type": "code",
   "execution_count": 3,
   "metadata": {},
   "outputs": [
    {
     "data": {
      "image/png": "[encoded data removed]",
      "text/plain": [
       "<Figure size 432x432 with 1 Axes>"
      ]
     },
     "metadata": {
      "needs_background": "light"
     },
     "output_type": "display_data"
    }
   ],
   "source": [
    "fig, ax = plt.subplots(figsize=(6, 6))\n",
    "urban_mask.to_crs(epsg).plot(ax=ax)\n",
    "fig.show()"
   ]
  },
  {
   "cell_type": "markdown",
   "metadata": {},
   "source": [
    "## Urban Network"
   ]
  },
  {
   "cell_type": "code",
   "execution_count": 4,
   "metadata": {},
   "outputs": [],
   "source": [
    "G = ox.graph_from_polygon(\n",
    "    urban_mask.to_crs(\"epsg:4326\").unary_union,\n",
    "    network_type=\"walk\",\n",
    "    simplify=False\n",
    ")\n",
    "G = ox.project_graph(G, to_crs=elevation.crs)\n",
    "ox.add_node_elevations_raster(\n",
    "    G,\n",
    "    elevation_filepath,\n",
    "    band=1\n",
    ")\n",
    "ox.elevation.add_edge_grades(G, add_absolute=False, precision=3)\n",
    "G = ox.project_graph(G, to_crs=epsg)\n",
    "nodes, edges = ox.graph_to_gdfs(G, nodes=True, edges=True)"
   ]
  },
  {
   "cell_type": "markdown",
   "metadata": {},
   "source": [
    "## Evacuation Routes"
   ]
  },
  {
   "cell_type": "code",
   "execution_count": 5,
   "metadata": {},
   "outputs": [],
   "source": [
    "def euclidean_dist(a, b, G=G):\n",
    "    x1 = G.nodes[a][\"x\"]\n",
    "    y1 = G.nodes[a][\"y\"]\n",
    "    x2 = G.nodes[b][\"x\"]\n",
    "    y2 =  G.nodes[b][\"y\"]\n",
    "    return ((x1 - x2) ** 2 + (y1 - y2) ** 2) ** 0.5\n",
    "\n",
    "\n",
    "def get_evacuation_route(G, origin, targets, weight=\"weight\", heuristic=None):\n",
    "    paths = {target: nx.astar_path(G, origin, target, heuristic, weight) for target in targets}\n",
    "    lengths = {target: sum(ox.utils_graph.get_route_edge_attributes(G, path, weight)) for target, path in paths.items()}\n",
    "    best_target = min(lengths, key=lengths.get)\n",
    "    path = paths[best_target][1:]\n",
    "    if len(path) == 0:\n",
    "        path = [origin]\n",
    "    return (origin, path)\n",
    "\n",
    "\n",
    "def get_evacuation_routes_parallel(args, cpus=None):\n",
    "    pool = mp.Pool(cpus)\n",
    "    sma = pool.starmap_async(get_evacuation_route, args)\n",
    "    evacuation_routes = sma.get()\n",
    "    pool.close()\n",
    "    pool.join()\n",
    "    return {origin: route for origin, route in evacuation_routes}"
   ]
  },
  {
   "cell_type": "code",
   "execution_count": 6,
   "metadata": {},
   "outputs": [],
   "source": [
    "horizontal_shelter_nodes_id = ox.distance.nearest_nodes(\n",
    "    G,\n",
    "    X=shelters_raw.loc[lambda x: x[\"evac_type\"] == \"horizontal\", \"geometry\"].x.values,\n",
    "    Y=shelters_raw.loc[lambda x: x[\"evac_type\"] == \"horizontal\", \"geometry\"].y.values\n",
    ")\n",
    "horizontal_args = ((G, origin, horizontal_shelter_nodes_id, \"length\", None) for origin in G.nodes)\n",
    "horizontal_evacuation_routes = get_evacuation_routes_parallel(horizontal_args)"
   ]
  },
  {
   "cell_type": "code",
   "execution_count": 7,
   "metadata": {},
   "outputs": [],
   "source": [
    "vertical_shelter_nodes_id = ox.distance.nearest_nodes(\n",
    "    G,\n",
    "    X=shelters_raw.loc[lambda x: x[\"evac_type\"] == \"vertical\", \"geometry\"].x.values,\n",
    "    Y=shelters_raw.loc[lambda x: x[\"evac_type\"] == \"vertical\", \"geometry\"].y.values\n",
    ")\n",
    "vertical_args = ((G, origin, vertical_shelter_nodes_id, \"length\", None) for origin in G.nodes)\n",
    "vertical_evacuation_routes = get_evacuation_routes_parallel(vertical_args)"
   ]
  },
  {
   "cell_type": "code",
   "execution_count": 8,
   "metadata": {},
   "outputs": [],
   "source": [
    "shelter_nodes_id = ox.distance.nearest_nodes(\n",
    "    G,\n",
    "    X=shelters_raw.loc[:, \"geometry\"].x.values,\n",
    "    Y=shelters_raw.loc[:, \"geometry\"].y.values\n",
    ")\n",
    "alternative_args = (\n",
    "    (\n",
    "        G,\n",
    "        origin,\n",
    "        [shelter for shelter in shelter_nodes_id if origin != shelter],\n",
    "        \"length\",\n",
    "        None\n",
    "    ) for origin in shelter_nodes_id\n",
    ")\n",
    "alternative_evacuation_routes = get_evacuation_routes_parallel(alternative_args)"
   ]
  },
  {
   "cell_type": "markdown",
   "metadata": {},
   "source": [
    "## Tsunami Inundation"
   ]
  },
  {
   "cell_type": "code",
   "execution_count": 9,
   "metadata": {},
   "outputs": [],
   "source": [
    "tsunami_inundation_path = Path(data_path / \"tsunami_inundation\" / tsunami_scenario )\n",
    "tsunami_seconds = [int(file.stem) for file in tsunami_inundation_path.glob(\"*.asc\")]\n",
    "seconds_per_tick = int(np.gcd.reduce(tsunami_seconds))\n",
    "max_seconds = int(max(tsunami_seconds))\n",
    "tsunami_sample = rasterio.open( tsunami_inundation_path / \"0.asc\")\n",
    "cellsize = int(tsunami_sample.res[0])"
   ]
  },
  {
   "cell_type": "code",
   "execution_count": 10,
   "metadata": {},
   "outputs": [],
   "source": [
    "tsunami_max_flow_depths = np.array([])\n",
    "tsunami_min_flow_depths = np.array([])\n",
    "for file in tsunami_inundation_path.glob(\"*.asc\"):\n",
    "    tsunami_raster = rasterio.open(file).read(1).ravel()\n",
    "    tsunami_max_flow_depths = np.append(\n",
    "        tsunami_max_flow_depths,\n",
    "        tsunami_raster.max()\n",
    "    )\n",
    "    tsunami_min_flow_depths = np.append(\n",
    "        tsunami_min_flow_depths,\n",
    "        np.where(tsunami_raster > 0, tsunami_raster, np.inf).min()\n",
    "    )\n",
    "max_flow_depth = tsunami_max_flow_depths.max()\n",
    "min_flow_depth = tsunami_min_flow_depths.min()"
   ]
  },
  {
   "cell_type": "markdown",
   "metadata": {},
   "source": [
    "## Write outputs"
   ]
  },
  {
   "cell_type": "code",
   "execution_count": 11,
   "metadata": {},
   "outputs": [
    {
     "data": {
      "text/html": [
       "<div>\n",
       "<style scoped>\n",
       "    .dataframe tbody tr th:only-of-type {\n",
       "        vertical-align: middle;\n",
       "    }\n",
       "\n",
       "    .dataframe tbody tr th {\n",
       "        vertical-align: top;\n",
       "    }\n",
       "\n",
       "    .dataframe thead th {\n",
       "        text-align: right;\n",
       "    }\n",
       "</style>\n",
       "<table border=\"1\" class=\"dataframe\">\n",
       "  <thead>\n",
       "    <tr style=\"text-align: right;\">\n",
       "      <th></th>\n",
       "      <th>id</th>\n",
       "      <th>x</th>\n",
       "      <th>y</th>\n",
       "      <th>geometry</th>\n",
       "    </tr>\n",
       "  </thead>\n",
       "  <tbody>\n",
       "    <tr>\n",
       "      <th>0</th>\n",
       "      <td>252673360</td>\n",
       "      <td>261684.380267</td>\n",
       "      <td>6.343328e+06</td>\n",
       "      <td>POINT (261684.380 6343327.859)</td>\n",
       "    </tr>\n",
       "    <tr>\n",
       "      <th>1</th>\n",
       "      <td>253107884</td>\n",
       "      <td>261682.925030</td>\n",
       "      <td>6.343318e+06</td>\n",
       "      <td>POINT (261682.925 6343318.491)</td>\n",
       "    </tr>\n",
       "    <tr>\n",
       "      <th>2</th>\n",
       "      <td>254026566</td>\n",
       "      <td>261800.832097</td>\n",
       "      <td>6.343310e+06</td>\n",
       "      <td>POINT (261800.832 6343310.245)</td>\n",
       "    </tr>\n",
       "    <tr>\n",
       "      <th>3</th>\n",
       "      <td>302967549</td>\n",
       "      <td>261674.223281</td>\n",
       "      <td>6.343329e+06</td>\n",
       "      <td>POINT (261674.223 6343329.199)</td>\n",
       "    </tr>\n",
       "    <tr>\n",
       "      <th>4</th>\n",
       "      <td>254026932</td>\n",
       "      <td>261700.294158</td>\n",
       "      <td>6.343436e+06</td>\n",
       "      <td>POINT (261700.294 6343435.931)</td>\n",
       "    </tr>\n",
       "  </tbody>\n",
       "</table>\n",
       "</div>"
      ],
      "text/plain": [
       "          id              x             y                        geometry\n",
       "0  252673360  261684.380267  6.343328e+06  POINT (261684.380 6343327.859)\n",
       "1  253107884  261682.925030  6.343318e+06  POINT (261682.925 6343318.491)\n",
       "2  254026566  261800.832097  6.343310e+06  POINT (261800.832 6343310.245)\n",
       "3  302967549  261674.223281  6.343329e+06  POINT (261674.223 6343329.199)\n",
       "4  254026932  261700.294158  6.343436e+06  POINT (261700.294 6343435.931)"
      ]
     },
     "execution_count": 11,
     "metadata": {},
     "output_type": "execute_result"
    }
   ],
   "source": [
    "urban_nodes = (\n",
    "    nodes.reset_index()\n",
    "    .rename(columns={\"osmid\": \"id\"})\n",
    "    .loc[: ,[\"id\", \"x\", \"y\", \"geometry\"]]\n",
    ")\n",
    "urban_nodes.head()"
   ]
  },
  {
   "cell_type": "code",
   "execution_count": 12,
   "metadata": {},
   "outputs": [
    {
     "data": {
      "text/html": [
       "<div>\n",
       "<style scoped>\n",
       "    .dataframe tbody tr th:only-of-type {\n",
       "        vertical-align: middle;\n",
       "    }\n",
       "\n",
       "    .dataframe tbody tr th {\n",
       "        vertical-align: top;\n",
       "    }\n",
       "\n",
       "    .dataframe thead th {\n",
       "        text-align: right;\n",
       "    }\n",
       "</style>\n",
       "<table border=\"1\" class=\"dataframe\">\n",
       "  <thead>\n",
       "    <tr style=\"text-align: right;\">\n",
       "      <th></th>\n",
       "      <th>id</th>\n",
       "      <th>from_id</th>\n",
       "      <th>to_id</th>\n",
       "      <th>length</th>\n",
       "      <th>slope</th>\n",
       "      <th>weight</th>\n",
       "      <th>sidewalks</th>\n",
       "      <th>sd_width</th>\n",
       "      <th>geometry</th>\n",
       "    </tr>\n",
       "  </thead>\n",
       "  <tbody>\n",
       "    <tr>\n",
       "      <th>0</th>\n",
       "      <td>242043349</td>\n",
       "      <td>252673360</td>\n",
       "      <td>253107884</td>\n",
       "      <td>9.501</td>\n",
       "      <td>-0.002</td>\n",
       "      <td>9.501</td>\n",
       "      <td>2</td>\n",
       "      <td>3</td>\n",
       "      <td>LINESTRING (261684.380 6343327.859, 261682.925...</td>\n",
       "    </tr>\n",
       "    <tr>\n",
       "      <th>1</th>\n",
       "      <td>288368027</td>\n",
       "      <td>252673360</td>\n",
       "      <td>254026566</td>\n",
       "      <td>117.509</td>\n",
       "      <td>0.000</td>\n",
       "      <td>117.509</td>\n",
       "      <td>2</td>\n",
       "      <td>3</td>\n",
       "      <td>LINESTRING (261684.380 6343327.859, 261800.832...</td>\n",
       "    </tr>\n",
       "    <tr>\n",
       "      <th>2</th>\n",
       "      <td>452081060</td>\n",
       "      <td>252673360</td>\n",
       "      <td>302967549</td>\n",
       "      <td>10.221</td>\n",
       "      <td>-0.001</td>\n",
       "      <td>10.221</td>\n",
       "      <td>2</td>\n",
       "      <td>3</td>\n",
       "      <td>LINESTRING (261684.380 6343327.859, 261674.223...</td>\n",
       "    </tr>\n",
       "    <tr>\n",
       "      <th>3</th>\n",
       "      <td>551701500</td>\n",
       "      <td>252673360</td>\n",
       "      <td>254026932</td>\n",
       "      <td>109.476</td>\n",
       "      <td>0.003</td>\n",
       "      <td>109.476</td>\n",
       "      <td>2</td>\n",
       "      <td>3</td>\n",
       "      <td>LINESTRING (261684.380 6343327.859, 261700.294...</td>\n",
       "    </tr>\n",
       "    <tr>\n",
       "      <th>4</th>\n",
       "      <td>23927111</td>\n",
       "      <td>253107884</td>\n",
       "      <td>252674355</td>\n",
       "      <td>5.721</td>\n",
       "      <td>-0.002</td>\n",
       "      <td>5.721</td>\n",
       "      <td>2</td>\n",
       "      <td>3</td>\n",
       "      <td>LINESTRING (261682.925 6343318.491, 261682.156...</td>\n",
       "    </tr>\n",
       "  </tbody>\n",
       "</table>\n",
       "</div>"
      ],
      "text/plain": [
       "          id    from_id      to_id   length  slope   weight  sidewalks  \\\n",
       "0  242043349  252673360  253107884    9.501 -0.002    9.501          2   \n",
       "1  288368027  252673360  254026566  117.509  0.000  117.509          2   \n",
       "2  452081060  252673360  302967549   10.221 -0.001   10.221          2   \n",
       "3  551701500  252673360  254026932  109.476  0.003  109.476          2   \n",
       "4   23927111  253107884  252674355    5.721 -0.002    5.721          2   \n",
       "\n",
       "   sd_width                                           geometry  \n",
       "0         3  LINESTRING (261684.380 6343327.859, 261682.925...  \n",
       "1         3  LINESTRING (261684.380 6343327.859, 261800.832...  \n",
       "2         3  LINESTRING (261684.380 6343327.859, 261674.223...  \n",
       "3         3  LINESTRING (261684.380 6343327.859, 261700.294...  \n",
       "4         3  LINESTRING (261682.925 6343318.491, 261682.156...  "
      ]
     },
     "execution_count": 12,
     "metadata": {},
     "output_type": "execute_result"
    }
   ],
   "source": [
    "urban_network = (\n",
    "    edges.reset_index()\n",
    "    .rename(\n",
    "        columns={\n",
    "            \"osmid\": \"id\",\n",
    "            \"u\": \"from_id\",\n",
    "            \"v\": \"to_id\",\n",
    "            \"grade\": \"slope\",\n",
    "        }\n",
    "    )\n",
    "    .assign(\n",
    "        weight=lambda x: x[\"length\"],\n",
    "        sidewalks=2\n",
    "    )\n",
    "    .merge(\n",
    "        sidewalks,\n",
    "        how=\"left\"\n",
    "    )\n",
    "    .loc[\n",
    "        :,\n",
    "        [\n",
    "            \"id\",\n",
    "            \"from_id\",\n",
    "            \"to_id\",\n",
    "            \"length\",\n",
    "            \"slope\",\n",
    "            \"weight\",\n",
    "            \"sidewalks\",\n",
    "            \"sd_width\",\n",
    "            \"geometry\"\n",
    "\n",
    "        ]\n",
    "    ]\n",
    ")\n",
    "urban_network.head()"
   ]
  },
  {
   "cell_type": "code",
   "execution_count": 13,
   "metadata": {},
   "outputs": [
    {
     "data": {
      "text/html": [
       "<div>\n",
       "<style scoped>\n",
       "    .dataframe tbody tr th:only-of-type {\n",
       "        vertical-align: middle;\n",
       "    }\n",
       "\n",
       "    .dataframe tbody tr th {\n",
       "        vertical-align: top;\n",
       "    }\n",
       "\n",
       "    .dataframe thead th {\n",
       "        text-align: right;\n",
       "    }\n",
       "</style>\n",
       "<table border=\"1\" class=\"dataframe\">\n",
       "  <thead>\n",
       "    <tr style=\"text-align: right;\">\n",
       "      <th></th>\n",
       "      <th>id</th>\n",
       "      <th>x</th>\n",
       "      <th>y</th>\n",
       "      <th>evac_type</th>\n",
       "      <th>capacity</th>\n",
       "      <th>geometry</th>\n",
       "    </tr>\n",
       "  </thead>\n",
       "  <tbody>\n",
       "    <tr>\n",
       "      <th>0</th>\n",
       "      <td>253420305</td>\n",
       "      <td>262103.206679</td>\n",
       "      <td>6.345100e+06</td>\n",
       "      <td>horizontal</td>\n",
       "      <td>1000000</td>\n",
       "      <td>POINT (262103.207 6345099.608)</td>\n",
       "    </tr>\n",
       "    <tr>\n",
       "      <th>1</th>\n",
       "      <td>259837542</td>\n",
       "      <td>262544.721003</td>\n",
       "      <td>6.344990e+06</td>\n",
       "      <td>horizontal</td>\n",
       "      <td>1000000</td>\n",
       "      <td>POINT (262544.721 6344989.748)</td>\n",
       "    </tr>\n",
       "    <tr>\n",
       "      <th>2</th>\n",
       "      <td>256030204</td>\n",
       "      <td>262774.658589</td>\n",
       "      <td>6.344788e+06</td>\n",
       "      <td>horizontal</td>\n",
       "      <td>1000000</td>\n",
       "      <td>POINT (262774.659 6344788.015)</td>\n",
       "    </tr>\n",
       "    <tr>\n",
       "      <th>3</th>\n",
       "      <td>274465691</td>\n",
       "      <td>262956.721877</td>\n",
       "      <td>6.344166e+06</td>\n",
       "      <td>horizontal</td>\n",
       "      <td>1000000</td>\n",
       "      <td>POINT (262956.722 6344165.567)</td>\n",
       "    </tr>\n",
       "    <tr>\n",
       "      <th>4</th>\n",
       "      <td>254373577</td>\n",
       "      <td>260146.664181</td>\n",
       "      <td>6.343125e+06</td>\n",
       "      <td>horizontal</td>\n",
       "      <td>1000000</td>\n",
       "      <td>POINT (260146.664 6343124.537)</td>\n",
       "    </tr>\n",
       "  </tbody>\n",
       "</table>\n",
       "</div>"
      ],
      "text/plain": [
       "          id              x             y   evac_type  capacity  \\\n",
       "0  253420305  262103.206679  6.345100e+06  horizontal   1000000   \n",
       "1  259837542  262544.721003  6.344990e+06  horizontal   1000000   \n",
       "2  256030204  262774.658589  6.344788e+06  horizontal   1000000   \n",
       "3  274465691  262956.721877  6.344166e+06  horizontal   1000000   \n",
       "4  254373577  260146.664181  6.343125e+06  horizontal   1000000   \n",
       "\n",
       "                         geometry  \n",
       "0  POINT (262103.207 6345099.608)  \n",
       "1  POINT (262544.721 6344989.748)  \n",
       "2  POINT (262774.659 6344788.015)  \n",
       "3  POINT (262956.722 6344165.567)  \n",
       "4  POINT (260146.664 6343124.537)  "
      ]
     },
     "execution_count": 13,
     "metadata": {},
     "output_type": "execute_result"
    }
   ],
   "source": [
    "shelters_node = (\n",
    "    pd.DataFrame(\n",
    "        {\n",
    "            \"id\": shelter_nodes_id,\n",
    "            \"evac_type\": shelters_raw.loc[:, \"evac_type\"].values,\n",
    "            \"capacity\": shelters_raw.loc[:, \"capacity\"].values\n",
    "        }\n",
    "    )\n",
    "    .merge(urban_nodes, how=\"inner\")\n",
    "    .loc[\n",
    "        :,\n",
    "        [\"id\", \"x\", \"y\", \"evac_type\", \"capacity\", \"geometry\"]\n",
    "    ]\n",
    "    .pipe(lambda x: gpd.GeoDataFrame(x))\n",
    ")\n",
    "shelters_node.head()"
   ]
  },
  {
   "cell_type": "code",
   "execution_count": 14,
   "metadata": {},
   "outputs": [
    {
     "data": {
      "text/html": [
       "<div>\n",
       "<style scoped>\n",
       "    .dataframe tbody tr th:only-of-type {\n",
       "        vertical-align: middle;\n",
       "    }\n",
       "\n",
       "    .dataframe tbody tr th {\n",
       "        vertical-align: top;\n",
       "    }\n",
       "\n",
       "    .dataframe thead th {\n",
       "        text-align: right;\n",
       "    }\n",
       "</style>\n",
       "<table border=\"1\" class=\"dataframe\">\n",
       "  <thead>\n",
       "    <tr style=\"text-align: right;\">\n",
       "      <th></th>\n",
       "      <th>Id</th>\n",
       "      <th>vert_evac</th>\n",
       "      <th>geometry</th>\n",
       "    </tr>\n",
       "  </thead>\n",
       "  <tbody>\n",
       "    <tr>\n",
       "      <th>0</th>\n",
       "      <td>0</td>\n",
       "      <td>1</td>\n",
       "      <td>POLYGON ((260684.716 6343750.884, 260928.927 6...</td>\n",
       "    </tr>\n",
       "  </tbody>\n",
       "</table>\n",
       "</div>"
      ],
      "text/plain": [
       "   Id  vert_evac                                           geometry\n",
       "0   0          1  POLYGON ((260684.716 6343750.884, 260928.927 6..."
      ]
     },
     "execution_count": 14,
     "metadata": {},
     "output_type": "execute_result"
    }
   ],
   "source": [
    "if \"vert_evac\" not in vertical_evacuation_mask.columns:\n",
    "    vertical_evacuation_mask = vertical_evacuation_mask.assign(vert_evac=True)\n",
    "vertical_evacuation_mask.head()"
   ]
  },
  {
   "cell_type": "code",
   "execution_count": 15,
   "metadata": {},
   "outputs": [],
   "source": [
    "urban_nodes.to_file(data_path / \"urban\"/ \"urban_nodes.shp\")\n",
    "urban_network.to_file(data_path / \"urban\"/ \"urban_network.shp\")\n",
    "shelters_node.to_file(data_path / \"shelters\"/ \"shelters_node.shp\")\n",
    "vertical_evacuation_mask.to_file(data_path / \"urban\" / \"vertical_evacuation_mask.shp\")"
   ]
  },
  {
   "cell_type": "code",
   "execution_count": 16,
   "metadata": {},
   "outputs": [],
   "source": [
    "(data_path / \"evacuation_routes\" / \"shortest\").mkdir(parents=True, exist_ok=True)\n",
    "with (data_path / \"evacuation_routes\" / \"shortest\" / \"horizontal_evacuation_routes.json\").open(\"w\") as f:\n",
    "    json.dump(horizontal_evacuation_routes, f)\n",
    "\n",
    "with (data_path / \"evacuation_routes\" / \"shortest\" / \"vertical_evacuation_routes.json\").open(\"w\") as f:\n",
    "    json.dump(vertical_evacuation_routes, f)\n",
    "\n",
    "with (data_path / \"evacuation_routes\" / \"shortest\" / \"alternative_evacuation_routes.json\").open(\"w\") as f:\n",
    "    json.dump(alternative_evacuation_routes, f)\n"
   ]
  },
  {
   "cell_type": "code",
   "execution_count": 17,
   "metadata": {},
   "outputs": [],
   "source": [
    "with open(tsunami_inundation_path / \"config.json\", \"w\") as outfile:\n",
    "    json.dump(\n",
    "        {\n",
    "            \"seconds_per_tick\": seconds_per_tick,\n",
    "            \"max_seconds\": max_seconds,\n",
    "            \"min_flow_depth\": min_flow_depth,\n",
    "            \"max_flow_depth\": max_flow_depth,\n",
    "            \"cellsize\": cellsize\n",
    "        },\n",
    "        outfile\n",
    "    )"
   ]
  }
 ],
 "metadata": {
  "interpreter": {
   "hash": "b98655f3f48ebffe498c7bd1de12272d82668f41a403333105a778c5863c4324"
  },
  "kernelspec": {
   "display_name": "Python 3.9.6 ('agoo')",
   "language": "python",
   "name": "python3"
  },
  "language_info": {
   "codemirror_mode": {
    "name": "ipython",
    "version": 3
   },
   "file_extension": ".py",
   "mimetype": "text/x-python",
   "name": "python",
   "nbconvert_exporter": "python",
   "pygments_lexer": "ipython3",
   "version": "3.9.6"
  },
  "orig_nbformat": 4
 },
 "nbformat": 4,
 "nbformat_minor": 2
}
