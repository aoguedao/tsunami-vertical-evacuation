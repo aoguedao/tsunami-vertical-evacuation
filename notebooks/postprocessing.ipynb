{
 "cells": [
  {
   "cell_type": "markdown",
   "metadata": {},
   "source": [
    "# TVE Postprocessing"
   ]
  },
  {
   "cell_type": "code",
   "execution_count": 12,
   "metadata": {},
   "outputs": [],
   "source": [
    "import numpy as np\n",
    "import pandas as pd\n",
    "import matplotlib.pyplot as plt\n",
    "import geopandas as gpd\n",
    "import seaborn as sns\n",
    "import rasterio\n",
    "\n",
    "from pathlib import Path\n",
    "from rasterio.plot import show\n",
    "sns.set_theme(style=\"darkgrid\")\n",
    "\n",
    "%matplotlib inline"
   ]
  },
  {
   "cell_type": "code",
   "execution_count": 7,
   "metadata": {},
   "outputs": [],
   "source": [
    "data_path = Path(\".\").resolve().parent / \"vina_del_mar\" / \"output_20220624\" / \"vina_del_mar_vertical75_dt480\" / \"1\""
   ]
  },
  {
   "cell_type": "code",
   "execution_count": 14,
   "metadata": {},
   "outputs": [],
   "source": [
    "pedestrians = pd.read_csv(data_path / \"pedestrians.csv\")\n",
    "initial_population_distr = rasterio.open(data_path / \"initial_population_distribution.asc\")"
   ]
  },
  {
   "cell_type": "code",
   "execution_count": 17,
   "metadata": {},
   "outputs": [
    {
     "ename": "TypeError",
     "evalue": "Cannot convert fill_value nan to dtype int32",
     "output_type": "error",
     "traceback": [
      "\u001b[0;31m---------------------------------------------------------------------------\u001b[0m",
      "\u001b[0;31mValueError\u001b[0m                                Traceback (most recent call last)",
      "\u001b[0;32m~/mambaforge/envs/agoo/lib/python3.9/site-packages/numpy/ma/core.py\u001b[0m in \u001b[0;36m_check_fill_value\u001b[0;34m(fill_value, ndtype)\u001b[0m\n\u001b[1;32m    461\u001b[0m             \u001b[0;32mtry\u001b[0m\u001b[0;34m:\u001b[0m\u001b[0;34m\u001b[0m\u001b[0;34m\u001b[0m\u001b[0m\n\u001b[0;32m--> 462\u001b[0;31m                 \u001b[0mfill_value\u001b[0m \u001b[0;34m=\u001b[0m \u001b[0mnp\u001b[0m\u001b[0;34m.\u001b[0m\u001b[0marray\u001b[0m\u001b[0;34m(\u001b[0m\u001b[0mfill_value\u001b[0m\u001b[0;34m,\u001b[0m \u001b[0mcopy\u001b[0m\u001b[0;34m=\u001b[0m\u001b[0;32mFalse\u001b[0m\u001b[0;34m,\u001b[0m \u001b[0mdtype\u001b[0m\u001b[0;34m=\u001b[0m\u001b[0mndtype\u001b[0m\u001b[0;34m)\u001b[0m\u001b[0;34m\u001b[0m\u001b[0;34m\u001b[0m\u001b[0m\n\u001b[0m\u001b[1;32m    463\u001b[0m             \u001b[0;32mexcept\u001b[0m \u001b[0;34m(\u001b[0m\u001b[0mOverflowError\u001b[0m\u001b[0;34m,\u001b[0m \u001b[0mValueError\u001b[0m\u001b[0;34m)\u001b[0m \u001b[0;32mas\u001b[0m \u001b[0me\u001b[0m\u001b[0;34m:\u001b[0m\u001b[0;34m\u001b[0m\u001b[0;34m\u001b[0m\u001b[0m\n",
      "\u001b[0;31mValueError\u001b[0m: cannot convert float NaN to integer",
      "\nThe above exception was the direct cause of the following exception:\n",
      "\u001b[0;31mTypeError\u001b[0m                                 Traceback (most recent call last)",
      "\u001b[0;32m/tmp/ipykernel_543/4083234530.py\u001b[0m in \u001b[0;36m<module>\u001b[0;34m\u001b[0m\n\u001b[0;32m----> 1\u001b[0;31m \u001b[0mshow\u001b[0m\u001b[0;34m(\u001b[0m\u001b[0minitial_population_distr\u001b[0m\u001b[0;34m)\u001b[0m\u001b[0;34m\u001b[0m\u001b[0;34m\u001b[0m\u001b[0m\n\u001b[0m",
      "\u001b[0;32m~/mambaforge/envs/agoo/lib/python3.9/site-packages/rasterio/plot.py\u001b[0m in \u001b[0;36mshow\u001b[0;34m(source, with_bounds, contour, contour_label_kws, ax, title, transform, adjust, **kwargs)\u001b[0m\n\u001b[1;32m     89\u001b[0m \u001b[0;34m\u001b[0m\u001b[0m\n\u001b[1;32m     90\u001b[0m         \u001b[0;32mif\u001b[0m \u001b[0msource\u001b[0m\u001b[0;34m.\u001b[0m\u001b[0mcount\u001b[0m \u001b[0;34m==\u001b[0m \u001b[0;36m1\u001b[0m\u001b[0;34m:\u001b[0m\u001b[0;34m\u001b[0m\u001b[0;34m\u001b[0m\u001b[0m\n\u001b[0;32m---> 91\u001b[0;31m             \u001b[0marr\u001b[0m \u001b[0;34m=\u001b[0m \u001b[0msource\u001b[0m\u001b[0;34m.\u001b[0m\u001b[0mread\u001b[0m\u001b[0;34m(\u001b[0m\u001b[0;36m1\u001b[0m\u001b[0;34m,\u001b[0m \u001b[0mmasked\u001b[0m\u001b[0;34m=\u001b[0m\u001b[0;32mTrue\u001b[0m\u001b[0;34m)\u001b[0m\u001b[0;34m\u001b[0m\u001b[0;34m\u001b[0m\u001b[0m\n\u001b[0m\u001b[1;32m     92\u001b[0m         \u001b[0;32melse\u001b[0m\u001b[0;34m:\u001b[0m\u001b[0;34m\u001b[0m\u001b[0;34m\u001b[0m\u001b[0m\n\u001b[1;32m     93\u001b[0m             \u001b[0;32mtry\u001b[0m\u001b[0;34m:\u001b[0m\u001b[0;34m\u001b[0m\u001b[0;34m\u001b[0m\u001b[0m\n",
      "\u001b[0;32mrasterio/_io.pyx\u001b[0m in \u001b[0;36mrasterio._io.DatasetReaderBase.read\u001b[0;34m()\u001b[0m\n",
      "\u001b[0;32m~/mambaforge/envs/agoo/lib/python3.9/site-packages/numpy/ma/core.py\u001b[0m in \u001b[0;36marray\u001b[0;34m(data, dtype, copy, order, mask, fill_value, keep_mask, hard_mask, shrink, subok, ndmin)\u001b[0m\n\u001b[1;32m   6557\u001b[0m \u001b[0;34m\u001b[0m\u001b[0m\n\u001b[1;32m   6558\u001b[0m     \"\"\"\n\u001b[0;32m-> 6559\u001b[0;31m     return MaskedArray(data, mask=mask, dtype=dtype, copy=copy,\n\u001b[0m\u001b[1;32m   6560\u001b[0m                        \u001b[0msubok\u001b[0m\u001b[0;34m=\u001b[0m\u001b[0msubok\u001b[0m\u001b[0;34m,\u001b[0m \u001b[0mkeep_mask\u001b[0m\u001b[0;34m=\u001b[0m\u001b[0mkeep_mask\u001b[0m\u001b[0;34m,\u001b[0m\u001b[0;34m\u001b[0m\u001b[0;34m\u001b[0m\u001b[0m\n\u001b[1;32m   6561\u001b[0m                        \u001b[0mhard_mask\u001b[0m\u001b[0;34m=\u001b[0m\u001b[0mhard_mask\u001b[0m\u001b[0;34m,\u001b[0m \u001b[0mfill_value\u001b[0m\u001b[0;34m=\u001b[0m\u001b[0mfill_value\u001b[0m\u001b[0;34m,\u001b[0m\u001b[0;34m\u001b[0m\u001b[0;34m\u001b[0m\u001b[0m\n",
      "\u001b[0;32m~/mambaforge/envs/agoo/lib/python3.9/site-packages/numpy/ma/core.py\u001b[0m in \u001b[0;36m__new__\u001b[0;34m(cls, data, mask, dtype, copy, subok, ndmin, fill_value, keep_mask, hard_mask, shrink, order)\u001b[0m\n\u001b[1;32m   2936\u001b[0m         \u001b[0;31m# But don't run the check unless we have something to check.\u001b[0m\u001b[0;34m\u001b[0m\u001b[0;34m\u001b[0m\u001b[0;34m\u001b[0m\u001b[0m\n\u001b[1;32m   2937\u001b[0m         \u001b[0;32mif\u001b[0m \u001b[0mfill_value\u001b[0m \u001b[0;32mis\u001b[0m \u001b[0;32mnot\u001b[0m \u001b[0;32mNone\u001b[0m\u001b[0;34m:\u001b[0m\u001b[0;34m\u001b[0m\u001b[0;34m\u001b[0m\u001b[0m\n\u001b[0;32m-> 2938\u001b[0;31m             \u001b[0m_data\u001b[0m\u001b[0;34m.\u001b[0m\u001b[0m_fill_value\u001b[0m \u001b[0;34m=\u001b[0m \u001b[0m_check_fill_value\u001b[0m\u001b[0;34m(\u001b[0m\u001b[0mfill_value\u001b[0m\u001b[0;34m,\u001b[0m \u001b[0m_data\u001b[0m\u001b[0;34m.\u001b[0m\u001b[0mdtype\u001b[0m\u001b[0;34m)\u001b[0m\u001b[0;34m\u001b[0m\u001b[0;34m\u001b[0m\u001b[0m\n\u001b[0m\u001b[1;32m   2939\u001b[0m         \u001b[0;31m# Process extra options ..\u001b[0m\u001b[0;34m\u001b[0m\u001b[0;34m\u001b[0m\u001b[0;34m\u001b[0m\u001b[0m\n\u001b[1;32m   2940\u001b[0m         \u001b[0;32mif\u001b[0m \u001b[0mhard_mask\u001b[0m \u001b[0;32mis\u001b[0m \u001b[0;32mNone\u001b[0m\u001b[0;34m:\u001b[0m\u001b[0;34m\u001b[0m\u001b[0;34m\u001b[0m\u001b[0m\n",
      "\u001b[0;32m~/mambaforge/envs/agoo/lib/python3.9/site-packages/numpy/ma/core.py\u001b[0m in \u001b[0;36m_check_fill_value\u001b[0;34m(fill_value, ndtype)\u001b[0m\n\u001b[1;32m    466\u001b[0m                 \u001b[0;31m# that the passed fill_value is not compatible with the ndtype.\u001b[0m\u001b[0;34m\u001b[0m\u001b[0;34m\u001b[0m\u001b[0;34m\u001b[0m\u001b[0m\n\u001b[1;32m    467\u001b[0m                 \u001b[0merr_msg\u001b[0m \u001b[0;34m=\u001b[0m \u001b[0;34m\"Cannot convert fill_value %s to dtype %s\"\u001b[0m\u001b[0;34m\u001b[0m\u001b[0;34m\u001b[0m\u001b[0m\n\u001b[0;32m--> 468\u001b[0;31m                 \u001b[0;32mraise\u001b[0m \u001b[0mTypeError\u001b[0m\u001b[0;34m(\u001b[0m\u001b[0merr_msg\u001b[0m \u001b[0;34m%\u001b[0m \u001b[0;34m(\u001b[0m\u001b[0mfill_value\u001b[0m\u001b[0;34m,\u001b[0m \u001b[0mndtype\u001b[0m\u001b[0;34m)\u001b[0m\u001b[0;34m)\u001b[0m \u001b[0;32mfrom\u001b[0m \u001b[0me\u001b[0m\u001b[0;34m\u001b[0m\u001b[0;34m\u001b[0m\u001b[0m\n\u001b[0m\u001b[1;32m    469\u001b[0m     \u001b[0;32mreturn\u001b[0m \u001b[0mnp\u001b[0m\u001b[0;34m.\u001b[0m\u001b[0marray\u001b[0m\u001b[0;34m(\u001b[0m\u001b[0mfill_value\u001b[0m\u001b[0;34m)\u001b[0m\u001b[0;34m\u001b[0m\u001b[0;34m\u001b[0m\u001b[0m\n\u001b[1;32m    470\u001b[0m \u001b[0;34m\u001b[0m\u001b[0m\n",
      "\u001b[0;31mTypeError\u001b[0m: Cannot convert fill_value nan to dtype int32"
     ]
    }
   ],
   "source": [
    "show(initial_population_distr)"
   ]
  },
  {
   "cell_type": "code",
   "execution_count": 18,
   "metadata": {},
   "outputs": [],
   "source": [
    "data_path = Path(\".\").resolve().parent / \"vina_del_mar\" / \"output\""
   ]
  },
  {
   "cell_type": "code",
   "execution_count": 19,
   "metadata": {},
   "outputs": [
    {
     "data": {
      "text/html": [
       "<div>\n",
       "<style scoped>\n",
       "    .dataframe tbody tr th:only-of-type {\n",
       "        vertical-align: middle;\n",
       "    }\n",
       "\n",
       "    .dataframe tbody tr th {\n",
       "        vertical-align: top;\n",
       "    }\n",
       "\n",
       "    .dataframe thead th {\n",
       "        text-align: right;\n",
       "    }\n",
       "</style>\n",
       "<table border=\"1\" class=\"dataframe\">\n",
       "  <thead>\n",
       "    <tr style=\"text-align: right;\">\n",
       "      <th></th>\n",
       "      <th>WHO</th>\n",
       "      <th>COLOR</th>\n",
       "      <th>HEADING</th>\n",
       "      <th>XCOR</th>\n",
       "      <th>YCOR</th>\n",
       "      <th>SHAPE</th>\n",
       "      <th>LABEL</th>\n",
       "      <th>LABELCOLOR</th>\n",
       "      <th>BREED</th>\n",
       "      <th>HIDDEN</th>\n",
       "      <th>...</th>\n",
       "      <th>CURRENROAD</th>\n",
       "      <th>ROADLANE</th>\n",
       "      <th>STARTED</th>\n",
       "      <th>MOVING</th>\n",
       "      <th>INNODE</th>\n",
       "      <th>EVACUATED</th>\n",
       "      <th>DEAD</th>\n",
       "      <th>TOTALDISTA</th>\n",
       "      <th>ENDTIME</th>\n",
       "      <th>geometry</th>\n",
       "    </tr>\n",
       "  </thead>\n",
       "  <tbody>\n",
       "    <tr>\n",
       "      <th>0</th>\n",
       "      <td>5198</td>\n",
       "      <td>55</td>\n",
       "      <td>186.987960</td>\n",
       "      <td>234.861887</td>\n",
       "      <td>306.147086</td>\n",
       "      <td>circle</td>\n",
       "      <td>None</td>\n",
       "      <td>9.9</td>\n",
       "      <td>pedestrians</td>\n",
       "      <td>false</td>\n",
       "      <td>...</td>\n",
       "      <td>None</td>\n",
       "      <td>NaN</td>\n",
       "      <td>None</td>\n",
       "      <td>None</td>\n",
       "      <td>None</td>\n",
       "      <td>None</td>\n",
       "      <td>None</td>\n",
       "      <td>NaN</td>\n",
       "      <td>NaN</td>\n",
       "      <td>POINT (260513.809 6343563.235)</td>\n",
       "    </tr>\n",
       "    <tr>\n",
       "      <th>1</th>\n",
       "      <td>5199</td>\n",
       "      <td>15</td>\n",
       "      <td>107.204793</td>\n",
       "      <td>244.001616</td>\n",
       "      <td>316.727064</td>\n",
       "      <td>x</td>\n",
       "      <td>None</td>\n",
       "      <td>9.9</td>\n",
       "      <td>pedestrians</td>\n",
       "      <td>false</td>\n",
       "      <td>...</td>\n",
       "      <td>0, 4895.0, 4896.0, 4897.0, 4898</td>\n",
       "      <td>0.0</td>\n",
       "      <td>0, 48</td>\n",
       "      <td>99.0,</td>\n",
       "      <td>4900</td>\n",
       "      <td>.0, 4</td>\n",
       "      <td>901.0</td>\n",
       "      <td>0.0</td>\n",
       "      <td>203.0</td>\n",
       "      <td>POINT (260559.508 6343616.135)</td>\n",
       "    </tr>\n",
       "    <tr>\n",
       "      <th>2</th>\n",
       "      <td>5200</td>\n",
       "      <td>55</td>\n",
       "      <td>116.482064</td>\n",
       "      <td>228.044693</td>\n",
       "      <td>274.604591</td>\n",
       "      <td>circle</td>\n",
       "      <td>None</td>\n",
       "      <td>9.9</td>\n",
       "      <td>pedestrians</td>\n",
       "      <td>false</td>\n",
       "      <td>...</td>\n",
       "      <td>None</td>\n",
       "      <td>NaN</td>\n",
       "      <td>None</td>\n",
       "      <td>None</td>\n",
       "      <td>None</td>\n",
       "      <td>None</td>\n",
       "      <td>None</td>\n",
       "      <td>NaN</td>\n",
       "      <td>NaN</td>\n",
       "      <td>POINT (260479.723 6343405.523)</td>\n",
       "    </tr>\n",
       "    <tr>\n",
       "      <th>3</th>\n",
       "      <td>5201</td>\n",
       "      <td>15</td>\n",
       "      <td>186.414926</td>\n",
       "      <td>208.893418</td>\n",
       "      <td>321.352217</td>\n",
       "      <td>x</td>\n",
       "      <td>None</td>\n",
       "      <td>9.9</td>\n",
       "      <td>pedestrians</td>\n",
       "      <td>false</td>\n",
       "      <td>...</td>\n",
       "      <td>5.0, 2033.0, 2032.0, 2034.0, 20</td>\n",
       "      <td>3.0</td>\n",
       "      <td>6.0,</td>\n",
       "      <td>2031.</td>\n",
       "      <td>0, 20</td>\n",
       "      <td>28.0,</td>\n",
       "      <td>2026</td>\n",
       "      <td>0.0</td>\n",
       "      <td>0.0</td>\n",
       "      <td>POINT (260383.967 6343639.261)</td>\n",
       "    </tr>\n",
       "    <tr>\n",
       "      <th>4</th>\n",
       "      <td>5202</td>\n",
       "      <td>55</td>\n",
       "      <td>231.822801</td>\n",
       "      <td>233.579846</td>\n",
       "      <td>212.383762</td>\n",
       "      <td>circle</td>\n",
       "      <td>None</td>\n",
       "      <td>9.9</td>\n",
       "      <td>pedestrians</td>\n",
       "      <td>false</td>\n",
       "      <td>...</td>\n",
       "      <td>None</td>\n",
       "      <td>NaN</td>\n",
       "      <td>None</td>\n",
       "      <td>None</td>\n",
       "      <td>None</td>\n",
       "      <td>None</td>\n",
       "      <td>None</td>\n",
       "      <td>NaN</td>\n",
       "      <td>NaN</td>\n",
       "      <td>POINT (260507.399 6343094.419)</td>\n",
       "    </tr>\n",
       "  </tbody>\n",
       "</table>\n",
       "<p>5 rows × 36 columns</p>\n",
       "</div>"
      ],
      "text/plain": [
       "    WHO  COLOR     HEADING        XCOR        YCOR   SHAPE LABEL  LABELCOLOR  \\\n",
       "0  5198     55  186.987960  234.861887  306.147086  circle  None         9.9   \n",
       "1  5199     15  107.204793  244.001616  316.727064       x  None         9.9   \n",
       "2  5200     55  116.482064  228.044693  274.604591  circle  None         9.9   \n",
       "3  5201     15  186.414926  208.893418  321.352217       x  None         9.9   \n",
       "4  5202     55  231.822801  233.579846  212.383762  circle  None         9.9   \n",
       "\n",
       "         BREED HIDDEN  ...                       CURRENROAD  ROADLANE STARTED  \\\n",
       "0  pedestrians  false  ...                             None       NaN    None   \n",
       "1  pedestrians  false  ...  0, 4895.0, 4896.0, 4897.0, 4898       0.0   0, 48   \n",
       "2  pedestrians  false  ...                             None       NaN    None   \n",
       "3  pedestrians  false  ...  5.0, 2033.0, 2032.0, 2034.0, 20       3.0    6.0,   \n",
       "4  pedestrians  false  ...                             None       NaN    None   \n",
       "\n",
       "   MOVING  INNODE  EVACUATED   DEAD  TOTALDISTA  ENDTIME  \\\n",
       "0    None    None       None   None         NaN      NaN   \n",
       "1   99.0,    4900      .0, 4  901.0         0.0    203.0   \n",
       "2    None    None       None   None         NaN      NaN   \n",
       "3   2031.   0, 20      28.0,   2026         0.0      0.0   \n",
       "4    None    None       None   None         NaN      NaN   \n",
       "\n",
       "                         geometry  \n",
       "0  POINT (260513.809 6343563.235)  \n",
       "1  POINT (260559.508 6343616.135)  \n",
       "2  POINT (260479.723 6343405.523)  \n",
       "3  POINT (260383.967 6343639.261)  \n",
       "4  POINT (260507.399 6343094.419)  \n",
       "\n",
       "[5 rows x 36 columns]"
      ]
     },
     "execution_count": 19,
     "metadata": {},
     "output_type": "execute_result"
    }
   ],
   "source": [
    "pede = gpd.read_file(data_path / \"pedestrians.shp\")\n",
    "pede.head()"
   ]
  },
  {
   "cell_type": "code",
   "execution_count": 22,
   "metadata": {},
   "outputs": [
    {
     "data": {
      "text/plain": [
       "Index(['WHO', 'COLOR', 'HEADING', 'XCOR', 'YCOR', 'SHAPE', 'LABEL',\n",
       "       'LABELCOLOR', 'BREED', 'HIDDEN', 'SIZE', 'PENSIZE', 'PENMODE', 'INITX',\n",
       "       'INITY', 'AGE', 'DEPARTIME', 'BASESPEED', 'SPEED', 'SLOPEFACTO',\n",
       "       'DECISION', 'INITDECISI', 'ROUTE', 'GOALSHELTE', 'CURRENNODE',\n",
       "       'NEXTNODE', 'CURRENROAD', 'ROADLANE', 'STARTED', 'MOVING', 'INNODE',\n",
       "       'EVACUATED', 'DEAD', 'TOTALDISTA', 'ENDTIME', 'geometry'],\n",
       "      dtype='object')"
      ]
     },
     "execution_count": 22,
     "metadata": {},
     "output_type": "execute_result"
    }
   ],
   "source": [
    "pede.columns"
   ]
  },
  {
   "cell_type": "code",
   "execution_count": 20,
   "metadata": {},
   "outputs": [
    {
     "data": {
      "text/plain": [
       "<AxesSubplot:>"
      ]
     },
     "execution_count": 20,
     "metadata": {},
     "output_type": "execute_result"
    },
    {
     "data": {
      "image/png": "[encoded data removed]",
      "text/plain": [
       "<Figure size 432x288 with 1 Axes>"
      ]
     },
     "metadata": {
      "needs_background": "light"
     },
     "output_type": "display_data"
    }
   ],
   "source": [
    "pede.plot()"
   ]
  },
  {
   "cell_type": "code",
   "execution_count": 23,
   "metadata": {},
   "outputs": [
    {
     "data": {
      "text/html": [
       "<div>\n",
       "<style scoped>\n",
       "    .dataframe tbody tr th:only-of-type {\n",
       "        vertical-align: middle;\n",
       "    }\n",
       "\n",
       "    .dataframe tbody tr th {\n",
       "        vertical-align: top;\n",
       "    }\n",
       "\n",
       "    .dataframe thead th {\n",
       "        text-align: right;\n",
       "    }\n",
       "</style>\n",
       "<table border=\"1\" class=\"dataframe\">\n",
       "  <thead>\n",
       "    <tr style=\"text-align: right;\">\n",
       "      <th></th>\n",
       "      <th>WHO</th>\n",
       "      <th>COLOR</th>\n",
       "      <th>HEADING</th>\n",
       "      <th>XCOR</th>\n",
       "      <th>YCOR</th>\n",
       "      <th>SHAPE</th>\n",
       "      <th>LABEL</th>\n",
       "      <th>LABELCOLOR</th>\n",
       "      <th>BREED</th>\n",
       "      <th>HIDDEN</th>\n",
       "      <th>SIZE</th>\n",
       "      <th>PENSIZE</th>\n",
       "      <th>PENMODE</th>\n",
       "      <th>ID</th>\n",
       "      <th>SHELTER</th>\n",
       "      <th>EVACTYPE</th>\n",
       "      <th>CAPACITY</th>\n",
       "      <th>EVACUEECOU</th>\n",
       "      <th>EVACUELIST</th>\n",
       "      <th>geometry</th>\n",
       "    </tr>\n",
       "  </thead>\n",
       "  <tbody>\n",
       "    <tr>\n",
       "      <th>0</th>\n",
       "      <td>448</td>\n",
       "      <td>55</td>\n",
       "      <td>0</td>\n",
       "      <td>362.582517</td>\n",
       "      <td>277.496537</td>\n",
       "      <td>square</td>\n",
       "      <td>None</td>\n",
       "      <td>9.9</td>\n",
       "      <td>nodes</td>\n",
       "      <td>false</td>\n",
       "      <td>12</td>\n",
       "      <td>1</td>\n",
       "      <td>up</td>\n",
       "      <td>253418257</td>\n",
       "      <td>true</td>\n",
       "      <td>vertical</td>\n",
       "      <td>806</td>\n",
       "      <td>0</td>\n",
       "      <td>[0.0, 0.0, 0.0, 0.0, 0.0, 0.0, 0.0, 0.0, 0.0, ...</td>\n",
       "      <td>POINT (261152.413 6343419.983)</td>\n",
       "    </tr>\n",
       "    <tr>\n",
       "      <th>1</th>\n",
       "      <td>496</td>\n",
       "      <td>55</td>\n",
       "      <td>0</td>\n",
       "      <td>420.339960</td>\n",
       "      <td>476.001366</td>\n",
       "      <td>square</td>\n",
       "      <td>None</td>\n",
       "      <td>9.9</td>\n",
       "      <td>nodes</td>\n",
       "      <td>false</td>\n",
       "      <td>12</td>\n",
       "      <td>1</td>\n",
       "      <td>up</td>\n",
       "      <td>254380616</td>\n",
       "      <td>true</td>\n",
       "      <td>vertical</td>\n",
       "      <td>1632</td>\n",
       "      <td>0</td>\n",
       "      <td>[0.0, 0.0, 0.0, 0.0, 0.0, 0.0, 0.0, 0.0, 0.0, ...</td>\n",
       "      <td>POINT (261441.200 6344412.507)</td>\n",
       "    </tr>\n",
       "    <tr>\n",
       "      <th>2</th>\n",
       "      <td>535</td>\n",
       "      <td>55</td>\n",
       "      <td>0</td>\n",
       "      <td>552.741336</td>\n",
       "      <td>613.421609</td>\n",
       "      <td>square</td>\n",
       "      <td>None</td>\n",
       "      <td>9.9</td>\n",
       "      <td>nodes</td>\n",
       "      <td>false</td>\n",
       "      <td>12</td>\n",
       "      <td>1</td>\n",
       "      <td>up</td>\n",
       "      <td>253420305</td>\n",
       "      <td>true</td>\n",
       "      <td>horizontal</td>\n",
       "      <td>1000000</td>\n",
       "      <td>30</td>\n",
       "      <td>[0.0, 0.0, 0.0, 0.0, 0.0, 0.0, 0.0, 0.0, 0.0, ...</td>\n",
       "      <td>POINT (262103.207 6345099.608)</td>\n",
       "    </tr>\n",
       "    <tr>\n",
       "      <th>3</th>\n",
       "      <td>598</td>\n",
       "      <td>55</td>\n",
       "      <td>0</td>\n",
       "      <td>484.310081</td>\n",
       "      <td>466.348971</td>\n",
       "      <td>square</td>\n",
       "      <td>None</td>\n",
       "      <td>9.9</td>\n",
       "      <td>nodes</td>\n",
       "      <td>false</td>\n",
       "      <td>12</td>\n",
       "      <td>1</td>\n",
       "      <td>up</td>\n",
       "      <td>254554396</td>\n",
       "      <td>true</td>\n",
       "      <td>vertical</td>\n",
       "      <td>35</td>\n",
       "      <td>0</td>\n",
       "      <td>[0.0, 0.0, 0.0, 0.0, 0.0, 0.0, 0.0, 0.0, 0.0, ...</td>\n",
       "      <td>POINT (261761.050 6344364.245)</td>\n",
       "    </tr>\n",
       "    <tr>\n",
       "      <th>4</th>\n",
       "      <td>1066</td>\n",
       "      <td>55</td>\n",
       "      <td>0</td>\n",
       "      <td>161.432836</td>\n",
       "      <td>218.407404</td>\n",
       "      <td>square</td>\n",
       "      <td>None</td>\n",
       "      <td>9.9</td>\n",
       "      <td>nodes</td>\n",
       "      <td>false</td>\n",
       "      <td>12</td>\n",
       "      <td>1</td>\n",
       "      <td>up</td>\n",
       "      <td>254373577</td>\n",
       "      <td>true</td>\n",
       "      <td>horizontal</td>\n",
       "      <td>1000000</td>\n",
       "      <td>4</td>\n",
       "      <td>[0.0, 0.0, 0.0, 0.0, 0.0, 0.0, 0.0, 0.0, 0.0, ...</td>\n",
       "      <td>POINT (260146.664 6343124.537)</td>\n",
       "    </tr>\n",
       "  </tbody>\n",
       "</table>\n",
       "</div>"
      ],
      "text/plain": [
       "    WHO  COLOR  HEADING        XCOR        YCOR   SHAPE LABEL  LABELCOLOR  \\\n",
       "0   448     55        0  362.582517  277.496537  square  None         9.9   \n",
       "1   496     55        0  420.339960  476.001366  square  None         9.9   \n",
       "2   535     55        0  552.741336  613.421609  square  None         9.9   \n",
       "3   598     55        0  484.310081  466.348971  square  None         9.9   \n",
       "4  1066     55        0  161.432836  218.407404  square  None         9.9   \n",
       "\n",
       "   BREED HIDDEN  SIZE  PENSIZE PENMODE         ID SHELTER    EVACTYPE  \\\n",
       "0  nodes  false    12        1      up  253418257    true    vertical   \n",
       "1  nodes  false    12        1      up  254380616    true    vertical   \n",
       "2  nodes  false    12        1      up  253420305    true  horizontal   \n",
       "3  nodes  false    12        1      up  254554396    true    vertical   \n",
       "4  nodes  false    12        1      up  254373577    true  horizontal   \n",
       "\n",
       "   CAPACITY  EVACUEECOU                                         EVACUELIST  \\\n",
       "0       806           0  [0.0, 0.0, 0.0, 0.0, 0.0, 0.0, 0.0, 0.0, 0.0, ...   \n",
       "1      1632           0  [0.0, 0.0, 0.0, 0.0, 0.0, 0.0, 0.0, 0.0, 0.0, ...   \n",
       "2   1000000          30  [0.0, 0.0, 0.0, 0.0, 0.0, 0.0, 0.0, 0.0, 0.0, ...   \n",
       "3        35           0  [0.0, 0.0, 0.0, 0.0, 0.0, 0.0, 0.0, 0.0, 0.0, ...   \n",
       "4   1000000           4  [0.0, 0.0, 0.0, 0.0, 0.0, 0.0, 0.0, 0.0, 0.0, ...   \n",
       "\n",
       "                         geometry  \n",
       "0  POINT (261152.413 6343419.983)  \n",
       "1  POINT (261441.200 6344412.507)  \n",
       "2  POINT (262103.207 6345099.608)  \n",
       "3  POINT (261761.050 6344364.245)  \n",
       "4  POINT (260146.664 6343124.537)  "
      ]
     },
     "execution_count": 23,
     "metadata": {},
     "output_type": "execute_result"
    }
   ],
   "source": [
    "shelters = gpd.read_file(data_path / \"shelters.shp\")\n",
    "shelters.head()"
   ]
  },
  {
   "cell_type": "code",
   "execution_count": 24,
   "metadata": {},
   "outputs": [
    {
     "data": {
      "text/plain": [
       "<AxesSubplot:>"
      ]
     },
     "execution_count": 24,
     "metadata": {},
     "output_type": "execute_result"
    },
    {
     "data": {
      "image/png": "[encoded data removed]",
      "text/plain": [
       "<Figure size 432x288 with 1 Axes>"
      ]
     },
     "metadata": {
      "needs_background": "light"
     },
     "output_type": "display_data"
    }
   ],
   "source": [
    "shelters.plot()"
   ]
  },
  {
   "cell_type": "code",
   "execution_count": null,
   "metadata": {},
   "outputs": [],
   "source": []
  }
 ],
 "metadata": {
  "kernelspec": {
   "display_name": "Python 3.9.6 ('agoo')",
   "language": "python",
   "name": "python3"
  },
  "language_info": {
   "codemirror_mode": {
    "name": "ipython",
    "version": 3
   },
   "file_extension": ".py",
   "mimetype": "text/x-python",
   "name": "python",
   "nbconvert_exporter": "python",
   "pygments_lexer": "ipython3",
   "version": "3.9.6"
  },
  "orig_nbformat": 4,
  "vscode": {
   "interpreter": {
    "hash": "b98655f3f48ebffe498c7bd1de12272d82668f41a403333105a778c5863c4324"
   }
  }
 },
 "nbformat": 4,
 "nbformat_minor": 2
}
