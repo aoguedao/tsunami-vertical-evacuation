{
 "cells": [
  {
   "cell_type": "code",
   "execution_count": null,
   "metadata": {},
   "outputs": [],
   "source": [
    "import numpy as np\n",
    "import pandas as pd\n",
    "import geopandas as gpd\n",
    "import matplotlib.pyplot as plt\n",
    "import networkx as nx\n",
    "import osmnx as ox\n",
    "import multiprocessing as mp\n",
    "import rasterio\n",
    "\n",
    "from pathlib import Path\n",
    "from rasterio.plot import show\n",
    "\n",
    "%matplotlib inline"
   ]
  },
  {
   "cell_type": "code",
   "execution_count": null,
   "metadata": {},
   "outputs": [],
   "source": [
    "data_path = Path('.').resolve().parent / \"data\""
   ]
  },
  {
   "cell_type": "code",
   "execution_count": null,
   "metadata": {},
   "outputs": [],
   "source": [
    "urban_network_old = gpd.read_file(data_path / 'Oteiza' / 'urban_network' / 'Calles Plan.shp')"
   ]
  },
  {
   "cell_type": "code",
   "execution_count": null,
   "metadata": {},
   "outputs": [],
   "source": [
    "elevation = rasterio.open(data_path  / 'urban_network'/ 'elevation.asc')"
   ]
  },
  {
   "cell_type": "code",
   "execution_count": null,
   "metadata": {},
   "outputs": [],
   "source": [
    "shelter_locations = gpd.read_file(data_path  / 'Oteiza' / 'shelter_locations' / 'P_E.shp')\n",
    "shelter_locations.head()"
   ]
  },
  {
   "cell_type": "code",
   "execution_count": null,
   "metadata": {},
   "outputs": [],
   "source": [
    "population_distribution_old = gpd.read_file(data_path / \"Oteiza\" / \"population_distribution\" / \"u_3_Diurno.shp\")\n",
    "population_distribution_old.head()"
   ]
  },
  {
   "cell_type": "code",
   "execution_count": null,
   "metadata": {},
   "outputs": [],
   "source": [
    "tsunami_inundatation = rasterio.open(data_path  / 'tsunami_inundation'/ 'sample.asc')"
   ]
  },
  {
   "cell_type": "markdown",
   "metadata": {},
   "source": [
    "## Urban Network"
   ]
  },
  {
   "cell_type": "code",
   "execution_count": null,
   "metadata": {},
   "outputs": [],
   "source": [
    "fig, ax = plt.subplots(figsize=(12, 7))\n",
    "urban_network_old.to_crs('epsg:4326').plot(ax=ax)\n",
    "fig.show()"
   ]
  },
  {
   "cell_type": "code",
   "execution_count": null,
   "metadata": {},
   "outputs": [],
   "source": [
    "urban_area = urban_network_old.to_crs('epsg:4326').convex_hull.iloc[0]\n",
    "G = ox.graph_from_polygon(\n",
    "    urban_area,\n",
    "    network_type='walk',\n",
    "    simplify=False\n",
    ")\n",
    "G = ox.project_graph(G, to_crs='epsg:32719')\n",
    "ox.add_node_elevations_raster(\n",
    "    G,\n",
    "    data_path  / 'urban_network'/ 'elevation.asc',\n",
    "    band=1\n",
    ")\n",
    "ox.elevation.add_edge_grades(G, add_absolute=False, precision=3)\n",
    "nodes, edges = ox.graph_to_gdfs(G, nodes=True, edges=True)"
   ]
  },
  {
   "cell_type": "markdown",
   "metadata": {},
   "source": [
    "### Shortest path"
   ]
  },
  {
   "cell_type": "code",
   "execution_count": null,
   "metadata": {},
   "outputs": [],
   "source": [
    "def euclidean_dist(a, b, G=G):\n",
    "    x1 = G.nodes[a]['x']\n",
    "    y1 = G.nodes[a]['y']\n",
    "    x2 = G.nodes[b]['x']\n",
    "    y2 =  G.nodes[b]['y']\n",
    "    return ((x1 - x2) ** 2 + (y1 - y2) ** 2) ** 0.5\n",
    "\n",
    "\n",
    "def best_astar_path(G, source, targets, heuristic=None, weight='weight'):\n",
    "    paths = {target: nx.astar_path(G, source, target, heuristic, weight) for target in targets}\n",
    "    lengths = {target: sum(ox.utils_graph.get_route_edge_attributes(G, path, weight)) for target, path in paths.items()}\n",
    "    best_target = min(lengths, key=lengths.get)\n",
    "    return (source, best_target, lengths[best_target], paths[best_target])"
   ]
  },
  {
   "cell_type": "code",
   "execution_count": null,
   "metadata": {},
   "outputs": [],
   "source": [
    "shelter_nodes = ox.distance.nearest_nodes(\n",
    "    G,\n",
    "    X=shelter_locations['x'].values,\n",
    "    Y=shelter_locations['y'].values\n",
    ")"
   ]
  },
  {
   "cell_type": "code",
   "execution_count": null,
   "metadata": {},
   "outputs": [],
   "source": [
    "cpus = None\n",
    "args = ((G, origin, shelter_nodes, euclidean_dist, 'length') for origin in G.nodes)\n",
    "pool = mp.Pool(cpus)\n",
    "sma = pool.starmap_async(best_astar_path, args)\n",
    "paths = sma.get()\n",
    "pool.close()\n",
    "pool.join()"
   ]
  },
  {
   "cell_type": "code",
   "execution_count": null,
   "metadata": {},
   "outputs": [],
   "source": [
    "path_df = pd.DataFrame(paths, columns=['osmid', 'shelter_osmid', 'cost', 'route_list'])\n",
    "# path_df['route'] = path_df['route_list'].apply(lambda route: '&'.join(str(x) for x in route))\n",
    "path_df['next_node'] = path_df['route_list'].apply(lambda x: x[1] if len(x) > 1 else -9999)\n",
    "path_df.head()"
   ]
  },
  {
   "cell_type": "code",
   "execution_count": null,
   "metadata": {},
   "outputs": [],
   "source": [
    "# test\n",
    "# path_df.loc[lambda x: x[\"osmid\"].isin(path_df.loc[0, \"route_list\"])]"
   ]
  },
  {
   "cell_type": "code",
   "execution_count": null,
   "metadata": {},
   "outputs": [],
   "source": [
    "netlogo_nodes = (\n",
    "    nodes.reset_index()\n",
    "    .merge(\n",
    "        path_df.drop(columns='route_list'),\n",
    "        on='osmid'\n",
    "    )\n",
    "    .rename(columns={\"osmid\": \"id\", \"shelter_osmid\": \"shelter_id\"})\n",
    "    .loc[: ,[\"id\", \"x\", \"y\", \"shelter_id\", \"next_node\", \"geometry\"]]\n",
    ")\n",
    "netlogo_nodes.head()"
   ]
  },
  {
   "cell_type": "code",
   "execution_count": null,
   "metadata": {},
   "outputs": [],
   "source": [
    "netlogo_urban_network = (\n",
    "    edges.reset_index()\n",
    "    .rename(\n",
    "        columns={\n",
    "            \"osmid\": \"id\",\n",
    "            \"u\": \"from_id\",\n",
    "            \"v\": \"to_id\",\n",
    "            \"grade\": \"slope\",\n",
    "        }\n",
    "    )\n",
    "    .assign(weight=lambda x: x[\"length\"])\n",
    "    .loc[\n",
    "        :,\n",
    "        [\n",
    "            \"id\",\n",
    "            \"from_id\",\n",
    "            \"to_id\",\n",
    "            \"slope\",\n",
    "            \"weight\",\n",
    "            \"length\",\n",
    "            \"highway\",\n",
    "            \"lanes\",\n",
    "            \"geometry\"\n",
    "\n",
    "        ]\n",
    "    ]\n",
    ")\n",
    "netlogo_urban_network.head()"
   ]
  },
  {
   "cell_type": "code",
   "execution_count": null,
   "metadata": {},
   "outputs": [],
   "source": [
    "netlogo_nodes.to_file(data_path / 'urban_network'/ \"nodes.shp\")\n",
    "netlogo_urban_network.to_file(data_path / 'urban_network'/ \"urban_network.shp\")"
   ]
  },
  {
   "cell_type": "markdown",
   "metadata": {},
   "source": [
    "## Shelters"
   ]
  },
  {
   "cell_type": "code",
   "execution_count": null,
   "metadata": {},
   "outputs": [],
   "source": [
    "netlogo_shelters = (\n",
    "    netlogo_nodes.loc[lambda x: x[\"id\"].isin(shelter_nodes)]\n",
    "    .assign(evac_type=\"horizontal\")\n",
    "    .loc[\n",
    "        :,\n",
    "        [\"id\", \"x\", \"y\", \"evac_type\", \"geometry\"]\n",
    "    ]\n",
    ")\n",
    "netlogo_shelters.head()"
   ]
  },
  {
   "cell_type": "code",
   "execution_count": null,
   "metadata": {},
   "outputs": [],
   "source": [
    "netlogo_shelters.to_file(data_path / 'shelters'/ \"shelters.shp\")"
   ]
  },
  {
   "cell_type": "markdown",
   "metadata": {},
   "source": [
    "## Agent Distribution"
   ]
  },
  {
   "cell_type": "code",
   "execution_count": null,
   "metadata": {},
   "outputs": [],
   "source": [
    "netlogo_population_distribution = (\n",
    "    population_distribution_old.rename(\n",
    "        columns={\n",
    "            \"Agente\": \"id\",\n",
    "            \"Velocidad\": \"speed\",\n",
    "            \"td\": \"depar_time\",\n",
    "        }\n",
    "    )\n",
    "    .assign(age=99)\n",
    "    .loc[\n",
    "        :,\n",
    "        [\"id\", \"age\", \"depar_time\", \"speed\", \"geometry\"]\n",
    "    ]\n",
    ")\n",
    "netlogo_population_distribution.head()"
   ]
  },
  {
   "cell_type": "code",
   "execution_count": null,
   "metadata": {},
   "outputs": [],
   "source": [
    "netlogo_population_distribution.to_file(data_path / 'agent_distribution'/ \"agent_distribution.shp\")"
   ]
  },
  {
   "cell_type": "markdown",
   "metadata": {},
   "source": [
    "## Tsunami"
   ]
  },
  {
   "cell_type": "code",
   "execution_count": null,
   "metadata": {},
   "outputs": [],
   "source": [
    "show((tsunami_inundatation, 1))"
   ]
  }
 ],
 "metadata": {
  "interpreter": {
   "hash": "b98655f3f48ebffe498c7bd1de12272d82668f41a403333105a778c5863c4324"
  },
  "kernelspec": {
   "display_name": "Python 3.9.6 64-bit ('agoo': conda)",
   "name": "python3"
  },
  "language_info": {
   "codemirror_mode": {
    "name": "ipython",
    "version": 3
   },
   "file_extension": ".py",
   "mimetype": "text/x-python",
   "name": "python",
   "nbconvert_exporter": "python",
   "pygments_lexer": "ipython3",
   "version": "3.9.6"
  },
  "orig_nbformat": 4
 },
 "nbformat": 4,
 "nbformat_minor": 2
}
