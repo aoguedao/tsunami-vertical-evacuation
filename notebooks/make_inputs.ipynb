{
 "cells": [
  {
   "cell_type": "code",
   "execution_count": 1,
   "metadata": {},
   "outputs": [],
   "source": [
    "import numpy as np\n",
    "import pandas as pd\n",
    "import geopandas as gpd\n",
    "import matplotlib.pyplot as plt\n",
    "import networkx as nx\n",
    "import osmnx as ox\n",
    "import multiprocessing as mp\n",
    "import rasterio\n",
    "\n",
    "from pathlib import Path\n",
    "from rasterio.plot import show\n",
    "\n",
    "%matplotlib inline"
   ]
  },
  {
   "cell_type": "code",
   "execution_count": 2,
   "metadata": {},
   "outputs": [],
   "source": [
    "data_path = Path('.').resolve().parent / \"data\""
   ]
  },
  {
   "cell_type": "code",
   "execution_count": 3,
   "metadata": {},
   "outputs": [
    {
     "data": {
      "text/html": [
       "<div>\n",
       "<style scoped>\n",
       "    .dataframe tbody tr th:only-of-type {\n",
       "        vertical-align: middle;\n",
       "    }\n",
       "\n",
       "    .dataframe tbody tr th {\n",
       "        vertical-align: top;\n",
       "    }\n",
       "\n",
       "    .dataframe thead th {\n",
       "        text-align: right;\n",
       "    }\n",
       "</style>\n",
       "<table border=\"1\" class=\"dataframe\">\n",
       "  <thead>\n",
       "    <tr style=\"text-align: right;\">\n",
       "      <th></th>\n",
       "      <th>OBJECTID_1</th>\n",
       "      <th>OBJECTID</th>\n",
       "      <th>Shape_Leng</th>\n",
       "      <th>Shape_Le_1</th>\n",
       "      <th>Shape_Area</th>\n",
       "      <th>geometry</th>\n",
       "    </tr>\n",
       "  </thead>\n",
       "  <tbody>\n",
       "    <tr>\n",
       "      <th>0</th>\n",
       "      <td>1</td>\n",
       "      <td>1</td>\n",
       "      <td>127162.803192</td>\n",
       "      <td>119043.942613</td>\n",
       "      <td>792534.410363</td>\n",
       "      <td>MULTIPOLYGON (((256237.120 6340931.603, 256233...</td>\n",
       "    </tr>\n",
       "  </tbody>\n",
       "</table>\n",
       "</div>"
      ],
      "text/plain": [
       "   OBJECTID_1  OBJECTID     Shape_Leng     Shape_Le_1     Shape_Area  \\\n",
       "0           1         1  127162.803192  119043.942613  792534.410363   \n",
       "\n",
       "                                            geometry  \n",
       "0  MULTIPOLYGON (((256237.120 6340931.603, 256233...  "
      ]
     },
     "execution_count": 3,
     "metadata": {},
     "output_type": "execute_result"
    }
   ],
   "source": [
    "urban_network_old = gpd.read_file(data_path / 'Oteiza' / 'urban_network' / 'Calles Plan.shp')\n",
    "urban_network_old.head()"
   ]
  },
  {
   "cell_type": "code",
   "execution_count": 4,
   "metadata": {},
   "outputs": [
    {
     "data": {
      "text/html": [
       "<div>\n",
       "<style scoped>\n",
       "    .dataframe tbody tr th:only-of-type {\n",
       "        vertical-align: middle;\n",
       "    }\n",
       "\n",
       "    .dataframe tbody tr th {\n",
       "        vertical-align: top;\n",
       "    }\n",
       "\n",
       "    .dataframe thead th {\n",
       "        text-align: right;\n",
       "    }\n",
       "</style>\n",
       "<table border=\"1\" class=\"dataframe\">\n",
       "  <thead>\n",
       "    <tr style=\"text-align: right;\">\n",
       "      <th></th>\n",
       "      <th>Id</th>\n",
       "      <th>x</th>\n",
       "      <th>y</th>\n",
       "      <th>Nu_PE</th>\n",
       "      <th>geometry</th>\n",
       "    </tr>\n",
       "  </thead>\n",
       "  <tbody>\n",
       "    <tr>\n",
       "      <th>0</th>\n",
       "      <td>0</td>\n",
       "      <td>254233.0</td>\n",
       "      <td>6341020.0</td>\n",
       "      <td>2.0</td>\n",
       "      <td>POINT (254233.439 6341019.395)</td>\n",
       "    </tr>\n",
       "    <tr>\n",
       "      <th>1</th>\n",
       "      <td>0</td>\n",
       "      <td>254524.0</td>\n",
       "      <td>6341010.0</td>\n",
       "      <td>3.0</td>\n",
       "      <td>POINT (254523.816 6341014.674)</td>\n",
       "    </tr>\n",
       "    <tr>\n",
       "      <th>2</th>\n",
       "      <td>0</td>\n",
       "      <td>254668.0</td>\n",
       "      <td>6340820.0</td>\n",
       "      <td>4.0</td>\n",
       "      <td>POINT (254668.452 6340823.254)</td>\n",
       "    </tr>\n",
       "    <tr>\n",
       "      <th>3</th>\n",
       "      <td>0</td>\n",
       "      <td>254762.0</td>\n",
       "      <td>6340610.0</td>\n",
       "      <td>5.0</td>\n",
       "      <td>POINT (254762.334 6340608.970)</td>\n",
       "    </tr>\n",
       "    <tr>\n",
       "      <th>4</th>\n",
       "      <td>0</td>\n",
       "      <td>254941.0</td>\n",
       "      <td>6340360.0</td>\n",
       "      <td>6.0</td>\n",
       "      <td>POINT (254941.376 6340360.074)</td>\n",
       "    </tr>\n",
       "  </tbody>\n",
       "</table>\n",
       "</div>"
      ],
      "text/plain": [
       "   Id         x          y  Nu_PE                        geometry\n",
       "0   0  254233.0  6341020.0    2.0  POINT (254233.439 6341019.395)\n",
       "1   0  254524.0  6341010.0    3.0  POINT (254523.816 6341014.674)\n",
       "2   0  254668.0  6340820.0    4.0  POINT (254668.452 6340823.254)\n",
       "3   0  254762.0  6340610.0    5.0  POINT (254762.334 6340608.970)\n",
       "4   0  254941.0  6340360.0    6.0  POINT (254941.376 6340360.074)"
      ]
     },
     "execution_count": 4,
     "metadata": {},
     "output_type": "execute_result"
    }
   ],
   "source": [
    "shelter_locations = gpd.read_file(data_path  / 'Oteiza' / 'shelter_locations' / 'P_E.shp')\n",
    "shelter_locations.head()"
   ]
  },
  {
   "cell_type": "markdown",
   "metadata": {},
   "source": [
    "## Urban Network"
   ]
  },
  {
   "cell_type": "code",
   "execution_count": 5,
   "metadata": {},
   "outputs": [
    {
     "data": {
      "image/png": "[encoded data removed]",
      "text/plain": [
       "<Figure size 864x504 with 1 Axes>"
      ]
     },
     "metadata": {
      "needs_background": "light"
     },
     "output_type": "display_data"
    }
   ],
   "source": [
    "fig, ax = plt.subplots(figsize=(12, 7))\n",
    "urban_network_old.plot(ax=ax)\n",
    "fig.show()"
   ]
  },
  {
   "cell_type": "code",
   "execution_count": 6,
   "metadata": {},
   "outputs": [],
   "source": [
    "urban_area = urban_network_old.to_crs('epsg:4326').convex_hull.iloc[0]\n",
    "G = ox.graph_from_polygon(\n",
    "    urban_area,\n",
    "    network_type='walk',\n",
    "    simplify=False\n",
    ")\n",
    "G = ox.project_graph(G, to_crs='epsg:32719')\n",
    "nodes, edges = ox.graph_to_gdfs(G, nodes=True, edges=True)"
   ]
  },
  {
   "cell_type": "markdown",
   "metadata": {},
   "source": [
    "### Shorter path"
   ]
  },
  {
   "cell_type": "code",
   "execution_count": 7,
   "metadata": {},
   "outputs": [],
   "source": [
    "def euclidean_dist(a, b, G=G):\n",
    "    x1 = G.nodes[a]['x']\n",
    "    y1 = G.nodes[a]['y']\n",
    "    x2 = G.nodes[b]['x']\n",
    "    y2 =  G.nodes[b]['y']\n",
    "    return ((x1 - x2) ** 2 + (y1 - y2) ** 2) ** 0.5\n",
    "\n",
    "\n",
    "def best_astar_path(G, source, targets, heuristic=None, weight='weight'):\n",
    "    paths = {target: nx.astar_path(G, source, target, heuristic, weight) for target in targets}\n",
    "    lengths = {target: sum(ox.utils_graph.get_route_edge_attributes(G, path, weight)) for target, path in paths.items()}\n",
    "    best_target = min(lengths, key=lengths.get)\n",
    "    return (source, best_target, lengths[best_target], paths[best_target])"
   ]
  },
  {
   "cell_type": "code",
   "execution_count": 8,
   "metadata": {},
   "outputs": [],
   "source": [
    "shelter_nodes = ox.distance.nearest_nodes(\n",
    "    G,\n",
    "    X=shelter_locations['x'].values,\n",
    "    Y=shelter_locations['y'].values\n",
    ")\n"
   ]
  },
  {
   "cell_type": "code",
   "execution_count": 9,
   "metadata": {},
   "outputs": [],
   "source": [
    "cpus = None\n",
    "args = ((G, origin, shelter_nodes, euclidean_dist, 'length') for origin in G.nodes)\n",
    "pool = mp.Pool(cpus)\n",
    "sma = pool.starmap_async(best_astar_path, args)\n",
    "paths = sma.get()\n",
    "pool.close()\n",
    "pool.join()"
   ]
  },
  {
   "cell_type": "code",
   "execution_count": 10,
   "metadata": {},
   "outputs": [
    {
     "data": {
      "text/html": [
       "<div>\n",
       "<style scoped>\n",
       "    .dataframe tbody tr th:only-of-type {\n",
       "        vertical-align: middle;\n",
       "    }\n",
       "\n",
       "    .dataframe tbody tr th {\n",
       "        vertical-align: top;\n",
       "    }\n",
       "\n",
       "    .dataframe thead th {\n",
       "        text-align: right;\n",
       "    }\n",
       "</style>\n",
       "<table border=\"1\" class=\"dataframe\">\n",
       "  <thead>\n",
       "    <tr style=\"text-align: right;\">\n",
       "      <th></th>\n",
       "      <th>osmid</th>\n",
       "      <th>shelter_osmid</th>\n",
       "      <th>cost</th>\n",
       "      <th>route_list</th>\n",
       "      <th>route</th>\n",
       "    </tr>\n",
       "  </thead>\n",
       "  <tbody>\n",
       "    <tr>\n",
       "      <th>0</th>\n",
       "      <td>255384937</td>\n",
       "      <td>277652486</td>\n",
       "      <td>290.405</td>\n",
       "      <td>[255384937, 255385018, 255385079, 256618477, 2...</td>\n",
       "      <td>255384937&amp;255385018&amp;255385079&amp;256618477&amp;256618...</td>\n",
       "    </tr>\n",
       "    <tr>\n",
       "      <th>1</th>\n",
       "      <td>256617916</td>\n",
       "      <td>277652486</td>\n",
       "      <td>309.987</td>\n",
       "      <td>[256617916, 255384937, 255385018, 255385079, 2...</td>\n",
       "      <td>256617916&amp;255384937&amp;255385018&amp;255385079&amp;256618...</td>\n",
       "    </tr>\n",
       "    <tr>\n",
       "      <th>2</th>\n",
       "      <td>255385018</td>\n",
       "      <td>277652486</td>\n",
       "      <td>270.158</td>\n",
       "      <td>[255385018, 255385079, 256618477, 256618479, 2...</td>\n",
       "      <td>255385018&amp;255385079&amp;256618477&amp;256618479&amp;256618...</td>\n",
       "    </tr>\n",
       "    <tr>\n",
       "      <th>3</th>\n",
       "      <td>255384941</td>\n",
       "      <td>277652486</td>\n",
       "      <td>169.373</td>\n",
       "      <td>[255384941, 255385312, 5309709056, 4781992891,...</td>\n",
       "      <td>255384941&amp;255385312&amp;5309709056&amp;4781992891&amp;5309...</td>\n",
       "    </tr>\n",
       "    <tr>\n",
       "      <th>4</th>\n",
       "      <td>255790084</td>\n",
       "      <td>277652486</td>\n",
       "      <td>202.320</td>\n",
       "      <td>[255790084, 255384941, 255385312, 5309709056, ...</td>\n",
       "      <td>255790084&amp;255384941&amp;255385312&amp;5309709056&amp;47819...</td>\n",
       "    </tr>\n",
       "  </tbody>\n",
       "</table>\n",
       "</div>"
      ],
      "text/plain": [
       "       osmid  shelter_osmid     cost  \\\n",
       "0  255384937      277652486  290.405   \n",
       "1  256617916      277652486  309.987   \n",
       "2  255385018      277652486  270.158   \n",
       "3  255384941      277652486  169.373   \n",
       "4  255790084      277652486  202.320   \n",
       "\n",
       "                                          route_list  \\\n",
       "0  [255384937, 255385018, 255385079, 256618477, 2...   \n",
       "1  [256617916, 255384937, 255385018, 255385079, 2...   \n",
       "2  [255385018, 255385079, 256618477, 256618479, 2...   \n",
       "3  [255384941, 255385312, 5309709056, 4781992891,...   \n",
       "4  [255790084, 255384941, 255385312, 5309709056, ...   \n",
       "\n",
       "                                               route  \n",
       "0  255384937&255385018&255385079&256618477&256618...  \n",
       "1  256617916&255384937&255385018&255385079&256618...  \n",
       "2  255385018&255385079&256618477&256618479&256618...  \n",
       "3  255384941&255385312&5309709056&4781992891&5309...  \n",
       "4  255790084&255384941&255385312&5309709056&47819...  "
      ]
     },
     "execution_count": 10,
     "metadata": {},
     "output_type": "execute_result"
    }
   ],
   "source": [
    "path_df = pd.DataFrame(paths, columns=['osmid', 'shelter_osmid', 'cost', 'route_list'])\n",
    "path_df['route'] = path_df['route_list'].apply(lambda route: '&'.join(str(x) for x in route))\n",
    "path_df.head()"
   ]
  },
  {
   "cell_type": "code",
   "execution_count": 11,
   "metadata": {},
   "outputs": [],
   "source": [
    "G_undirected = ox.utils_graph.get_undirected(G)\n",
    "nodes_undirected, edges_undirected = ox.graph_to_gdfs(G_undirected, nodes=True, edges=True)"
   ]
  },
  {
   "cell_type": "code",
   "execution_count": 12,
   "metadata": {},
   "outputs": [
    {
     "data": {
      "text/html": [
       "<div>\n",
       "<style scoped>\n",
       "    .dataframe tbody tr th:only-of-type {\n",
       "        vertical-align: middle;\n",
       "    }\n",
       "\n",
       "    .dataframe tbody tr th {\n",
       "        vertical-align: top;\n",
       "    }\n",
       "\n",
       "    .dataframe thead th {\n",
       "        text-align: right;\n",
       "    }\n",
       "</style>\n",
       "<table border=\"1\" class=\"dataframe\">\n",
       "  <thead>\n",
       "    <tr style=\"text-align: right;\">\n",
       "      <th></th>\n",
       "      <th>id</th>\n",
       "      <th>x</th>\n",
       "      <th>y</th>\n",
       "      <th>shelter_id</th>\n",
       "      <th>route</th>\n",
       "      <th>geometry</th>\n",
       "    </tr>\n",
       "  </thead>\n",
       "  <tbody>\n",
       "    <tr>\n",
       "      <th>0</th>\n",
       "      <td>255384937</td>\n",
       "      <td>254722.232910</td>\n",
       "      <td>6.341039e+06</td>\n",
       "      <td>277652486</td>\n",
       "      <td>255384937&amp;255385018&amp;255385079&amp;256618477&amp;256618...</td>\n",
       "      <td>POINT (254722.233 6341038.898)</td>\n",
       "    </tr>\n",
       "    <tr>\n",
       "      <th>1</th>\n",
       "      <td>256617916</td>\n",
       "      <td>254738.523120</td>\n",
       "      <td>6.341050e+06</td>\n",
       "      <td>277652486</td>\n",
       "      <td>256617916&amp;255384937&amp;255385018&amp;255385079&amp;256618...</td>\n",
       "      <td>POINT (254738.523 6341049.804)</td>\n",
       "    </tr>\n",
       "    <tr>\n",
       "      <th>2</th>\n",
       "      <td>255385018</td>\n",
       "      <td>254706.146387</td>\n",
       "      <td>6.341027e+06</td>\n",
       "      <td>277652486</td>\n",
       "      <td>255385018&amp;255385079&amp;256618477&amp;256618479&amp;256618...</td>\n",
       "      <td>POINT (254706.146 6341026.576)</td>\n",
       "    </tr>\n",
       "    <tr>\n",
       "      <th>3</th>\n",
       "      <td>255384941</td>\n",
       "      <td>254515.666868</td>\n",
       "      <td>6.340880e+06</td>\n",
       "      <td>277652486</td>\n",
       "      <td>255384941&amp;255385312&amp;5309709056&amp;4781992891&amp;5309...</td>\n",
       "      <td>POINT (254515.667 6340879.680)</td>\n",
       "    </tr>\n",
       "    <tr>\n",
       "      <th>4</th>\n",
       "      <td>255790084</td>\n",
       "      <td>254490.621028</td>\n",
       "      <td>6.340858e+06</td>\n",
       "      <td>277652486</td>\n",
       "      <td>255790084&amp;255384941&amp;255385312&amp;5309709056&amp;47819...</td>\n",
       "      <td>POINT (254490.621 6340858.245)</td>\n",
       "    </tr>\n",
       "  </tbody>\n",
       "</table>\n",
       "</div>"
      ],
      "text/plain": [
       "          id              x             y  shelter_id  \\\n",
       "0  255384937  254722.232910  6.341039e+06   277652486   \n",
       "1  256617916  254738.523120  6.341050e+06   277652486   \n",
       "2  255385018  254706.146387  6.341027e+06   277652486   \n",
       "3  255384941  254515.666868  6.340880e+06   277652486   \n",
       "4  255790084  254490.621028  6.340858e+06   277652486   \n",
       "\n",
       "                                               route  \\\n",
       "0  255384937&255385018&255385079&256618477&256618...   \n",
       "1  256617916&255384937&255385018&255385079&256618...   \n",
       "2  255385018&255385079&256618477&256618479&256618...   \n",
       "3  255384941&255385312&5309709056&4781992891&5309...   \n",
       "4  255790084&255384941&255385312&5309709056&47819...   \n",
       "\n",
       "                         geometry  \n",
       "0  POINT (254722.233 6341038.898)  \n",
       "1  POINT (254738.523 6341049.804)  \n",
       "2  POINT (254706.146 6341026.576)  \n",
       "3  POINT (254515.667 6340879.680)  \n",
       "4  POINT (254490.621 6340858.245)  "
      ]
     },
     "execution_count": 12,
     "metadata": {},
     "output_type": "execute_result"
    }
   ],
   "source": [
    "netlogo_nodes = (\n",
    "    nodes.reset_index()\n",
    "    .merge(\n",
    "        path_df.drop(columns='route_list'),\n",
    "        on='osmid'\n",
    "    )\n",
    "    .rename(columns={\"osmid\": \"id\", \"shelter_osmid\": \"shelter_id\"})\n",
    "    .loc[: ,[\"id\", \"x\", \"y\", \"shelter_id\", \"route\", \"geometry\"]]\n",
    ")\n",
    "netlogo_nodes.head()"
   ]
  },
  {
   "cell_type": "code",
   "execution_count": 13,
   "metadata": {},
   "outputs": [
    {
     "data": {
      "text/html": [
       "<div>\n",
       "<style scoped>\n",
       "    .dataframe tbody tr th:only-of-type {\n",
       "        vertical-align: middle;\n",
       "    }\n",
       "\n",
       "    .dataframe tbody tr th {\n",
       "        vertical-align: top;\n",
       "    }\n",
       "\n",
       "    .dataframe thead th {\n",
       "        text-align: right;\n",
       "    }\n",
       "</style>\n",
       "<table border=\"1\" class=\"dataframe\">\n",
       "  <thead>\n",
       "    <tr style=\"text-align: right;\">\n",
       "      <th></th>\n",
       "      <th>id</th>\n",
       "      <th>from_id</th>\n",
       "      <th>to_id</th>\n",
       "      <th>weight</th>\n",
       "      <th>length</th>\n",
       "      <th>highway</th>\n",
       "      <th>lanes</th>\n",
       "      <th>geometry</th>\n",
       "    </tr>\n",
       "  </thead>\n",
       "  <tbody>\n",
       "    <tr>\n",
       "      <th>0</th>\n",
       "      <td>23583548</td>\n",
       "      <td>256617916</td>\n",
       "      <td>255384937</td>\n",
       "      <td>19.582</td>\n",
       "      <td>19.582</td>\n",
       "      <td>pedestrian</td>\n",
       "      <td>NaN</td>\n",
       "      <td>LINESTRING (254738.523 6341049.804, 254722.233...</td>\n",
       "    </tr>\n",
       "    <tr>\n",
       "      <th>1</th>\n",
       "      <td>23699663</td>\n",
       "      <td>255385018</td>\n",
       "      <td>255384937</td>\n",
       "      <td>20.247</td>\n",
       "      <td>20.247</td>\n",
       "      <td>residential</td>\n",
       "      <td>2</td>\n",
       "      <td>LINESTRING (254706.146 6341026.576, 254722.233...</td>\n",
       "    </tr>\n",
       "    <tr>\n",
       "      <th>2</th>\n",
       "      <td>23583548</td>\n",
       "      <td>1489764754</td>\n",
       "      <td>256617916</td>\n",
       "      <td>11.938</td>\n",
       "      <td>11.938</td>\n",
       "      <td>pedestrian</td>\n",
       "      <td>NaN</td>\n",
       "      <td>LINESTRING (254731.138 6341059.174, 254738.523...</td>\n",
       "    </tr>\n",
       "    <tr>\n",
       "      <th>3</th>\n",
       "      <td>23583561</td>\n",
       "      <td>255385016</td>\n",
       "      <td>255385018</td>\n",
       "      <td>64.707</td>\n",
       "      <td>64.707</td>\n",
       "      <td>residential</td>\n",
       "      <td>2</td>\n",
       "      <td>LINESTRING (254744.298 6340974.372, 254706.146...</td>\n",
       "    </tr>\n",
       "    <tr>\n",
       "      <th>4</th>\n",
       "      <td>386734913</td>\n",
       "      <td>255385052</td>\n",
       "      <td>255385018</td>\n",
       "      <td>46.275</td>\n",
       "      <td>46.275</td>\n",
       "      <td>residential</td>\n",
       "      <td>2</td>\n",
       "      <td>LINESTRING (254669.408 6340998.379, 254706.146...</td>\n",
       "    </tr>\n",
       "  </tbody>\n",
       "</table>\n",
       "</div>"
      ],
      "text/plain": [
       "          id     from_id      to_id  weight  length      highway lanes  \\\n",
       "0   23583548   256617916  255384937  19.582  19.582   pedestrian   NaN   \n",
       "1   23699663   255385018  255384937  20.247  20.247  residential     2   \n",
       "2   23583548  1489764754  256617916  11.938  11.938   pedestrian   NaN   \n",
       "3   23583561   255385016  255385018  64.707  64.707  residential     2   \n",
       "4  386734913   255385052  255385018  46.275  46.275  residential     2   \n",
       "\n",
       "                                            geometry  \n",
       "0  LINESTRING (254738.523 6341049.804, 254722.233...  \n",
       "1  LINESTRING (254706.146 6341026.576, 254722.233...  \n",
       "2  LINESTRING (254731.138 6341059.174, 254738.523...  \n",
       "3  LINESTRING (254744.298 6340974.372, 254706.146...  \n",
       "4  LINESTRING (254669.408 6340998.379, 254706.146...  "
      ]
     },
     "execution_count": 13,
     "metadata": {},
     "output_type": "execute_result"
    }
   ],
   "source": [
    "urban_network = (\n",
    "    edges_undirected.reset_index()\n",
    "    .rename(\n",
    "        columns={\n",
    "            \"osmid\": \"id\",\n",
    "            \"from\": \"from_id\",\n",
    "            \"to\": \"to_id\",\n",
    "        }\n",
    "    )\n",
    "    .assign(weight=lambda x: x[\"length\"])\n",
    "    .loc[\n",
    "        :,\n",
    "        [\n",
    "            \"id\",\n",
    "            \"from_id\",\n",
    "            \"to_id\",\n",
    "            \"weight\",\n",
    "            \"length\",\n",
    "            \"highway\",\n",
    "            \"lanes\",\n",
    "            \"geometry\"\n",
    "\n",
    "        ]\n",
    "    ]\n",
    ")\n",
    "urban_network.head()"
   ]
  },
  {
   "cell_type": "code",
   "execution_count": 14,
   "metadata": {},
   "outputs": [],
   "source": [
    "netlogo_nodes.to_file(data_path / 'urban_network'/ \"nodes.shp\")\n",
    "urban_network.to_file(data_path / 'urban_network'/ \"urban_network.shp\")"
   ]
  },
  {
   "cell_type": "code",
   "execution_count": 15,
   "metadata": {},
   "outputs": [
    {
     "data": {
      "text/plain": [
       "['2251233874',\n",
       " '4792360858',\n",
       " '2251233620',\n",
       " '4792360853',\n",
       " '3740238648',\n",
       " '3740238700',\n",
       " '3740238703',\n",
       " '3740238658',\n",
       " '5016512864',\n",
       " '3629947459',\n",
       " '3629947460',\n",
       " '3629948716',\n",
       " '3629947461',\n",
       " '3629947462',\n",
       " '3629947463',\n",
       " '3629947464',\n",
       " '3740238659',\n",
       " '4757436318',\n",
       " '4258753731',\n",
       " '4757436321',\n",
       " '3629947465',\n",
       " '264676817',\n",
       " '5309254587',\n",
       " '5309254586',\n",
       " '5309254585',\n",
       " '5309254584',\n",
       " '255790595',\n",
       " '262546955',\n",
       " '257666388',\n",
       " '262528952',\n",
       " '255790597',\n",
       " '259211943',\n",
       " '259211942',\n",
       " '5316795638',\n",
       " '5316795698',\n",
       " '259659648',\n",
       " '4790602513',\n",
       " '4790602512',\n",
       " '4790602511',\n",
       " '259659652',\n",
       " '4790602510',\n",
       " '4790602514',\n",
       " '4790602509',\n",
       " '3393372826',\n",
       " '259659654',\n",
       " '4790602518',\n",
       " '4790602516',\n",
       " '259659655',\n",
       " '6013560399',\n",
       " '4790602519',\n",
       " '259659659',\n",
       " '312662504',\n",
       " '5337129466',\n",
       " '4790602520',\n",
       " '5337129467',\n",
       " '2452360009',\n",
       " '259659662',\n",
       " '291963800']"
      ]
     },
     "execution_count": 15,
     "metadata": {},
     "output_type": "execute_result"
    }
   ],
   "source": [
    "netlogo_nodes.query(\"id == 2251233874\").iloc[0].route.split(\"&\")"
   ]
  },
  {
   "cell_type": "code",
   "execution_count": 16,
   "metadata": {},
   "outputs": [
    {
     "ename": "SyntaxError",
     "evalue": "invalid syntax (3754891730.py, line 1)",
     "output_type": "error",
     "traceback": [
      "\u001b[0;36m  File \u001b[0;32m\"/tmp/ipykernel_434/3754891730.py\"\u001b[0;36m, line \u001b[0;32m1\u001b[0m\n\u001b[0;31m    [2251233874 4792360858 2251233620 4792360853 3740238648 3740238700 3740238703 3740238658 5016512864 3629947459 3629947460 3629948716 3629947461 3629947462 3629947463 3629947464 3740238659 4757436318 4258753731 4757436321 3629947465 264676817 5309254587 53]\u001b[0m\n\u001b[0m                ^\u001b[0m\n\u001b[0;31mSyntaxError\u001b[0m\u001b[0;31m:\u001b[0m invalid syntax\n"
     ]
    }
   ],
   "source": [
    "[2251233874 4792360858 2251233620 4792360853 3740238648 3740238700 3740238703 3740238658 5016512864 3629947459 3629947460 3629948716 3629947461 3629947462 3629947463 3629947464 3740238659 4757436318 4258753731 4757436321 3629947465 264676817 5309254587 53]"
   ]
  },
  {
   "cell_type": "markdown",
   "metadata": {},
   "source": [
    "## Shelters"
   ]
  },
  {
   "cell_type": "code",
   "execution_count": null,
   "metadata": {},
   "outputs": [
    {
     "data": {
      "text/html": [
       "<div>\n",
       "<style scoped>\n",
       "    .dataframe tbody tr th:only-of-type {\n",
       "        vertical-align: middle;\n",
       "    }\n",
       "\n",
       "    .dataframe tbody tr th {\n",
       "        vertical-align: top;\n",
       "    }\n",
       "\n",
       "    .dataframe thead th {\n",
       "        text-align: right;\n",
       "    }\n",
       "</style>\n",
       "<table border=\"1\" class=\"dataframe\">\n",
       "  <thead>\n",
       "    <tr style=\"text-align: right;\">\n",
       "      <th></th>\n",
       "      <th>id</th>\n",
       "      <th>x</th>\n",
       "      <th>y</th>\n",
       "      <th>evac_type</th>\n",
       "      <th>geometry</th>\n",
       "    </tr>\n",
       "  </thead>\n",
       "  <tbody>\n",
       "    <tr>\n",
       "      <th>450</th>\n",
       "      <td>257688522</td>\n",
       "      <td>254668.451930</td>\n",
       "      <td>6.340823e+06</td>\n",
       "      <td>horizontal</td>\n",
       "      <td>POINT (254668.452 6340823.254)</td>\n",
       "    </tr>\n",
       "    <tr>\n",
       "      <th>593</th>\n",
       "      <td>291963800</td>\n",
       "      <td>256829.119069</td>\n",
       "      <td>6.341054e+06</td>\n",
       "      <td>horizontal</td>\n",
       "      <td>POINT (256829.119 6341053.937)</td>\n",
       "    </tr>\n",
       "    <tr>\n",
       "      <th>1032</th>\n",
       "      <td>5718043491</td>\n",
       "      <td>255288.033138</td>\n",
       "      <td>6.340285e+06</td>\n",
       "      <td>horizontal</td>\n",
       "      <td>POINT (255288.033 6340285.170)</td>\n",
       "    </tr>\n",
       "    <tr>\n",
       "      <th>1074</th>\n",
       "      <td>262556761</td>\n",
       "      <td>255886.409702</td>\n",
       "      <td>6.340075e+06</td>\n",
       "      <td>horizontal</td>\n",
       "      <td>POINT (255886.410 6340074.916)</td>\n",
       "    </tr>\n",
       "    <tr>\n",
       "      <th>1258</th>\n",
       "      <td>276565012</td>\n",
       "      <td>254763.881319</td>\n",
       "      <td>6.340600e+06</td>\n",
       "      <td>horizontal</td>\n",
       "      <td>POINT (254763.881 6340599.857)</td>\n",
       "    </tr>\n",
       "  </tbody>\n",
       "</table>\n",
       "</div>"
      ],
      "text/plain": [
       "              id              x             y   evac_type  \\\n",
       "450    257688522  254668.451930  6.340823e+06  horizontal   \n",
       "593    291963800  256829.119069  6.341054e+06  horizontal   \n",
       "1032  5718043491  255288.033138  6.340285e+06  horizontal   \n",
       "1074   262556761  255886.409702  6.340075e+06  horizontal   \n",
       "1258   276565012  254763.881319  6.340600e+06  horizontal   \n",
       "\n",
       "                            geometry  \n",
       "450   POINT (254668.452 6340823.254)  \n",
       "593   POINT (256829.119 6341053.937)  \n",
       "1032  POINT (255288.033 6340285.170)  \n",
       "1074  POINT (255886.410 6340074.916)  \n",
       "1258  POINT (254763.881 6340599.857)  "
      ]
     },
     "execution_count": 79,
     "metadata": {},
     "output_type": "execute_result"
    }
   ],
   "source": [
    "netlogo_shelters = (\n",
    "    netlogo_nodes.loc[lambda x: x[\"id\"].isin(shelter_nodes)]\n",
    "    .assign(evac_type=\"horizontal\")\n",
    "    .loc[\n",
    "        :,\n",
    "        [\"id\", \"x\", \"y\", \"evac_type\", \"geometry\"]\n",
    "    ]\n",
    ")\n",
    "netlogo_shelters.head()"
   ]
  },
  {
   "cell_type": "code",
   "execution_count": null,
   "metadata": {},
   "outputs": [],
   "source": [
    "# shelters = (\n",
    "#     shelter_locations\n",
    "#     .rename(columns={\"Id\": \"id\"})\n",
    "#     .assign(type=\"horizontal\")\n",
    "#     .loc[\n",
    "#         :,\n",
    "#         [\"id\", \"\"]\n",
    "#     ]\n",
    "# )\n",
    "# shelters.head()"
   ]
  },
  {
   "cell_type": "code",
   "execution_count": null,
   "metadata": {},
   "outputs": [],
   "source": [
    "netlogo_shelters.to_file(data_path / 'shelters'/ \"shelters.shp\")"
   ]
  },
  {
   "cell_type": "markdown",
   "metadata": {},
   "source": [
    "## Agent Distribution"
   ]
  },
  {
   "cell_type": "code",
   "execution_count": null,
   "metadata": {},
   "outputs": [
    {
     "data": {
      "text/html": [
       "<div>\n",
       "<style scoped>\n",
       "    .dataframe tbody tr th:only-of-type {\n",
       "        vertical-align: middle;\n",
       "    }\n",
       "\n",
       "    .dataframe tbody tr th {\n",
       "        vertical-align: top;\n",
       "    }\n",
       "\n",
       "    .dataframe thead th {\n",
       "        text-align: right;\n",
       "    }\n",
       "</style>\n",
       "<table border=\"1\" class=\"dataframe\">\n",
       "  <thead>\n",
       "    <tr style=\"text-align: right;\">\n",
       "      <th></th>\n",
       "      <th>Agente</th>\n",
       "      <th>XUTM19S</th>\n",
       "      <th>YUTM19S</th>\n",
       "      <th>Velocidad</th>\n",
       "      <th>td</th>\n",
       "      <th>geometry</th>\n",
       "    </tr>\n",
       "  </thead>\n",
       "  <tbody>\n",
       "    <tr>\n",
       "      <th>0</th>\n",
       "      <td>1</td>\n",
       "      <td>255187.17</td>\n",
       "      <td>6340450.5</td>\n",
       "      <td>1.57</td>\n",
       "      <td>208.120620</td>\n",
       "      <td>POINT (255187.170 6340450.500)</td>\n",
       "    </tr>\n",
       "    <tr>\n",
       "      <th>1</th>\n",
       "      <td>2</td>\n",
       "      <td>255007.17</td>\n",
       "      <td>6340468.5</td>\n",
       "      <td>1.54</td>\n",
       "      <td>351.581240</td>\n",
       "      <td>POINT (255007.170 6340468.500)</td>\n",
       "    </tr>\n",
       "    <tr>\n",
       "      <th>2</th>\n",
       "      <td>3</td>\n",
       "      <td>255073.17</td>\n",
       "      <td>6340804.5</td>\n",
       "      <td>1.34</td>\n",
       "      <td>24.198232</td>\n",
       "      <td>POINT (255073.170 6340804.500)</td>\n",
       "    </tr>\n",
       "    <tr>\n",
       "      <th>3</th>\n",
       "      <td>4</td>\n",
       "      <td>255937.17</td>\n",
       "      <td>6339946.5</td>\n",
       "      <td>1.53</td>\n",
       "      <td>106.649740</td>\n",
       "      <td>POINT (255937.170 6339946.500)</td>\n",
       "    </tr>\n",
       "    <tr>\n",
       "      <th>4</th>\n",
       "      <td>5</td>\n",
       "      <td>255415.17</td>\n",
       "      <td>6340330.5</td>\n",
       "      <td>1.50</td>\n",
       "      <td>199.641320</td>\n",
       "      <td>POINT (255415.170 6340330.500)</td>\n",
       "    </tr>\n",
       "  </tbody>\n",
       "</table>\n",
       "</div>"
      ],
      "text/plain": [
       "   Agente    XUTM19S    YUTM19S  Velocidad          td  \\\n",
       "0       1  255187.17  6340450.5       1.57  208.120620   \n",
       "1       2  255007.17  6340468.5       1.54  351.581240   \n",
       "2       3  255073.17  6340804.5       1.34   24.198232   \n",
       "3       4  255937.17  6339946.5       1.53  106.649740   \n",
       "4       5  255415.17  6340330.5       1.50  199.641320   \n",
       "\n",
       "                         geometry  \n",
       "0  POINT (255187.170 6340450.500)  \n",
       "1  POINT (255007.170 6340468.500)  \n",
       "2  POINT (255073.170 6340804.500)  \n",
       "3  POINT (255937.170 6339946.500)  \n",
       "4  POINT (255415.170 6340330.500)  "
      ]
     },
     "execution_count": 76,
     "metadata": {},
     "output_type": "execute_result"
    }
   ],
   "source": [
    "population_distribution_old = gpd.read_file(data_path / \"Oteiza\" / \"population_distribution\" / \"u_3_Diurno.shp\")\n",
    "population_distribution_old.head()"
   ]
  },
  {
   "cell_type": "code",
   "execution_count": null,
   "metadata": {},
   "outputs": [
    {
     "data": {
      "text/html": [
       "<div>\n",
       "<style scoped>\n",
       "    .dataframe tbody tr th:only-of-type {\n",
       "        vertical-align: middle;\n",
       "    }\n",
       "\n",
       "    .dataframe tbody tr th {\n",
       "        vertical-align: top;\n",
       "    }\n",
       "\n",
       "    .dataframe thead th {\n",
       "        text-align: right;\n",
       "    }\n",
       "</style>\n",
       "<table border=\"1\" class=\"dataframe\">\n",
       "  <thead>\n",
       "    <tr style=\"text-align: right;\">\n",
       "      <th></th>\n",
       "      <th>id</th>\n",
       "      <th>age</th>\n",
       "      <th>depar_time</th>\n",
       "      <th>speed</th>\n",
       "      <th>geometry</th>\n",
       "    </tr>\n",
       "  </thead>\n",
       "  <tbody>\n",
       "    <tr>\n",
       "      <th>0</th>\n",
       "      <td>1</td>\n",
       "      <td>99</td>\n",
       "      <td>208.120620</td>\n",
       "      <td>1.57</td>\n",
       "      <td>POINT (255187.170 6340450.500)</td>\n",
       "    </tr>\n",
       "    <tr>\n",
       "      <th>1</th>\n",
       "      <td>2</td>\n",
       "      <td>99</td>\n",
       "      <td>351.581240</td>\n",
       "      <td>1.54</td>\n",
       "      <td>POINT (255007.170 6340468.500)</td>\n",
       "    </tr>\n",
       "    <tr>\n",
       "      <th>2</th>\n",
       "      <td>3</td>\n",
       "      <td>99</td>\n",
       "      <td>24.198232</td>\n",
       "      <td>1.34</td>\n",
       "      <td>POINT (255073.170 6340804.500)</td>\n",
       "    </tr>\n",
       "    <tr>\n",
       "      <th>3</th>\n",
       "      <td>4</td>\n",
       "      <td>99</td>\n",
       "      <td>106.649740</td>\n",
       "      <td>1.53</td>\n",
       "      <td>POINT (255937.170 6339946.500)</td>\n",
       "    </tr>\n",
       "    <tr>\n",
       "      <th>4</th>\n",
       "      <td>5</td>\n",
       "      <td>99</td>\n",
       "      <td>199.641320</td>\n",
       "      <td>1.50</td>\n",
       "      <td>POINT (255415.170 6340330.500)</td>\n",
       "    </tr>\n",
       "  </tbody>\n",
       "</table>\n",
       "</div>"
      ],
      "text/plain": [
       "   id  age  depar_time  speed                        geometry\n",
       "0   1   99  208.120620   1.57  POINT (255187.170 6340450.500)\n",
       "1   2   99  351.581240   1.54  POINT (255007.170 6340468.500)\n",
       "2   3   99   24.198232   1.34  POINT (255073.170 6340804.500)\n",
       "3   4   99  106.649740   1.53  POINT (255937.170 6339946.500)\n",
       "4   5   99  199.641320   1.50  POINT (255415.170 6340330.500)"
      ]
     },
     "execution_count": 77,
     "metadata": {},
     "output_type": "execute_result"
    }
   ],
   "source": [
    "netlogo_population_distribution = (\n",
    "    population_distribution_old.rename(\n",
    "        columns={\n",
    "            \"Agente\": \"id\",\n",
    "            \"Velocidad\": \"speed\",\n",
    "            \"td\": \"depar_time\",\n",
    "        }\n",
    "    )\n",
    "    .assign(age=99)\n",
    "    .loc[\n",
    "        :,\n",
    "        [\"id\", \"age\", \"depar_time\", \"speed\", \"geometry\"]\n",
    "    ]\n",
    ")\n",
    "netlogo_population_distribution.head()"
   ]
  },
  {
   "cell_type": "code",
   "execution_count": null,
   "metadata": {},
   "outputs": [],
   "source": [
    "netlogo_population_distribution.to_file(data_path / 'agent_distribution'/ \"agent_distribution.shp\")"
   ]
  },
  {
   "cell_type": "markdown",
   "metadata": {},
   "source": [
    "## Tsunami"
   ]
  },
  {
   "cell_type": "code",
   "execution_count": null,
   "metadata": {},
   "outputs": [],
   "source": [
    "tsunami_inundatation = rasterio.open(data_path  / 'tsunami_inundation'/ 'sample.asc')"
   ]
  },
  {
   "cell_type": "code",
   "execution_count": null,
   "metadata": {},
   "outputs": [
    {
     "data": {
      "image/png": "[encoded data removed]",
      "text/plain": [
       "<Figure size 432x288 with 1 Axes>"
      ]
     },
     "metadata": {
      "needs_background": "light"
     },
     "output_type": "display_data"
    },
    {
     "data": {
      "text/plain": [
       "<AxesSubplot:>"
      ]
     },
     "execution_count": 74,
     "metadata": {},
     "output_type": "execute_result"
    }
   ],
   "source": [
    "show((tsunami_inundatation, 1))"
   ]
  }
 ],
 "metadata": {
  "interpreter": {
   "hash": "b98655f3f48ebffe498c7bd1de12272d82668f41a403333105a778c5863c4324"
  },
  "kernelspec": {
   "display_name": "Python 3.9.6 64-bit ('agoo': conda)",
   "name": "python3"
  },
  "language_info": {
   "codemirror_mode": {
    "name": "ipython",
    "version": 3
   },
   "file_extension": ".py",
   "mimetype": "text/x-python",
   "name": "python",
   "nbconvert_exporter": "python",
   "pygments_lexer": "ipython3",
   "version": "3.9.6"
  },
  "orig_nbformat": 4
 },
 "nbformat": 4,
 "nbformat_minor": 2
}
